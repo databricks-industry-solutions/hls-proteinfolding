{
 "cells": [
  {
   "cell_type": "code",
   "execution_count": 0,
   "metadata": {
    "application/vnd.databricks.v1+cell": {
     "cellMetadata": {},
     "inputWidgets": {},
     "nuid": "1da161bc-51ca-44ac-977c-a9e827b8d952",
     "showTitle": true,
     "tableResultSettingsMap": {},
     "title": "NOTES"
    }
   },
   "outputs": [],
   "source": [
    "# ref: https://github.com/chaidiscovery/chai-lab/tree/main\n",
    "# https://www.chaidiscovery.com/blog/introducing-chai-1\n",
    "# https://www.biorxiv.org/content/10.1101/2024.10.10.615955v2.full.pdf\n",
    "# https://en.wikipedia.org/wiki/Multiple_sequence_alignment\n",
    "\n",
    "# Installation\n",
    "# # version on pypi:\n",
    "# pip install chai_lab==0.6.1\n",
    "\n",
    "# # newest available version (updates daily to test features that weren't released yet):\n",
    "# pip install git+https://github.com/chaidiscovery/chai-lab.git\n",
    "# This Python package requires Linux, Python 3.10 or later, and a GPU with CUDA and bfloat16 support. We recommend using an A100 80GB or H100 80GB or L40S 48GB chip, but A10 and A30 will work for smaller complexes. Users have also reported success with consumer-grade RTX 4090."
   ]
  },
  {
   "cell_type": "code",
   "execution_count": 0,
   "metadata": {
    "application/vnd.databricks.v1+cell": {
     "cellMetadata": {
      "byteLimit": 2048000,
      "rowLimit": 10000
     },
     "inputWidgets": {},
     "nuid": "6c00b2b4-d4e6-4cd6-a755-be5f31d01bed",
     "showTitle": true,
     "tableResultSettingsMap": {},
     "title": "install chai-lab"
    }
   },
   "outputs": [],
   "source": [
    "# version on pypi:\n",
    "# pip install chai_lab==0.6.1\n",
    "\n",
    "# newest available version (updates daily to test features that weren't released yet):\n",
    "!pip install git+https://github.com/chaidiscovery/chai-lab.git\n",
    "\n",
    "## might want to pip install to Vols? it's pretty fast"
   ]
  },
  {
   "cell_type": "code",
   "execution_count": 0,
   "metadata": {
    "application/vnd.databricks.v1+cell": {
     "cellMetadata": {
      "byteLimit": 2048000,
      "rowLimit": 10000
     },
     "inputWidgets": {},
     "nuid": "95feb85a-bcc1-4cf4-8689-2ed131da96f3",
     "showTitle": true,
     "tableResultSettingsMap": {},
     "title": "need to upgrade urllib3"
    }
   },
   "outputs": [],
   "source": [
    "!pip install --upgrade urllib3\n",
    "# Successfully installed urllib3-2.3.0"
   ]
  },
  {
   "cell_type": "code",
   "execution_count": 0,
   "metadata": {
    "application/vnd.databricks.v1+cell": {
     "cellMetadata": {
      "byteLimit": 2048000,
      "rowLimit": 10000
     },
     "inputWidgets": {},
     "nuid": "706df317-9060-4e0f-a93b-ec64d1832fc5",
     "showTitle": false,
     "tableResultSettingsMap": {},
     "title": ""
    }
   },
   "outputs": [],
   "source": [
    "dbutils.library.restartPython()"
   ]
  },
  {
   "cell_type": "code",
   "execution_count": 0,
   "metadata": {
    "application/vnd.databricks.v1+cell": {
     "cellMetadata": {
      "byteLimit": 2048000,
      "rowLimit": 10000
     },
     "inputWidgets": {},
     "nuid": "bb35116b-274c-48f9-a8ee-c5c2b996e927",
     "showTitle": false,
     "tableResultSettingsMap": {},
     "title": ""
    }
   },
   "outputs": [],
   "source": [
    "%sh\n",
    "python --version"
   ]
  },
  {
   "cell_type": "code",
   "execution_count": 0,
   "metadata": {
    "application/vnd.databricks.v1+cell": {
     "cellMetadata": {
      "byteLimit": 2048000,
      "rowLimit": 10000
     },
     "inputWidgets": {},
     "nuid": "30602f33-e0a9-4d54-a43b-2786a4b3f02c",
     "showTitle": false,
     "tableResultSettingsMap": {},
     "title": ""
    }
   },
   "outputs": [],
   "source": [
    "!which chai-lab"
   ]
  },
  {
   "cell_type": "code",
   "execution_count": 0,
   "metadata": {
    "application/vnd.databricks.v1+cell": {
     "cellMetadata": {
      "byteLimit": 2048000,
      "rowLimit": 10000
     },
     "inputWidgets": {},
     "nuid": "e59954ac-0547-466b-bb65-eb91af7f2942",
     "showTitle": true,
     "tableResultSettingsMap": {},
     "title": "? acceptable input format"
    }
   },
   "outputs": [],
   "source": [
    "# https://www.ncbi.nlm.nih.gov/protein/UXQ07652.1?report=fasta\n",
    "# https://www.rcsb.org/downloads/fasta\n",
    "# https://files.wwpdb.org/pub/pdb/derived_data/pdb_seqres.txt.gz\n",
    "\n",
    "#### not sure what's the right format for the input file -- it kept complaining the ENTITY TYPE not supported from FASTA examples obtain in above links...\n",
    "\n",
    "# https://github.com/seqeralabs/nf-chai --> format seems to be acceptable... | there are examples in repo https://github.com/chaidiscovery/chai-lab/blob/main/tests/example_inputs.py but no obvious format example -- although the same example is mentioned here as well https://github.com/chaidiscovery/chai-lab/blob/main/examples/predict_structure.py \n",
    "\n",
    "# Create a FASTA file with example content\n",
    "fasta_content = \"\"\">protein|name=example-of-long-protein\n",
    "AGSHSMRYFSTSVSRPGRGEPRFIAVGYVDDTQFVRFDSDAASPRGEPRAPWVEQEGPEYWDRETQKYKRQAQTDRVSLRNLRGYYNQSEAGSHTLQWMFGCDLGPDGRLLRGYDQSAYDGKDYIALNEDLRSWTAADTAAQITQRKWEAAREAEQRRAYLEGTCVEWLRRYLENGKETLQRAEHPKTHVTHHPVSDHEATLRCWALGFYPAEITLTWQWDGEDQTQDTELVETRPAGDGTFQKWAAVVVPSGEEQRYTCHVQHEGLPEPLTLRWEP\n",
    ">protein|name=example-of-short-protein\n",
    "AIQRTPKIQVYSRHPAENGKSNFLNCYVSGFHPSDIEVDLLKNGERIEKVEHSDLSFSKDWSFYLLYYTEFTPTEKDEYACRVNHVTLSQPKIVKWDRDM\n",
    ">protein|name=example-peptide\n",
    "GAAL\n",
    ">ligand|name=example-ligand-as-smiles\n",
    "CCCCCCCCCCCCCC(=O)O\n",
    "\"\"\"\n",
    "\n",
    "# Write the content to a file\n",
    "with open('test_protein.fasta', 'w') as f:\n",
    "    f.write(fasta_content)"
   ]
  },
  {
   "cell_type": "code",
   "execution_count": 0,
   "metadata": {
    "application/vnd.databricks.v1+cell": {
     "cellMetadata": {
      "byteLimit": 2048000,
      "rowLimit": 10000
     },
     "inputWidgets": {},
     "nuid": "e799d953-48a4-4604-9283-e49ac6bd8897",
     "showTitle": false,
     "tableResultSettingsMap": {},
     "title": ""
    }
   },
   "outputs": [],
   "source": [
    "!ls -lah"
   ]
  },
  {
   "cell_type": "code",
   "execution_count": 0,
   "metadata": {
    "application/vnd.databricks.v1+cell": {
     "cellMetadata": {},
     "inputWidgets": {},
     "nuid": "5b7771ed-a75d-4d7e-8ff2-30cb9db21b76",
     "showTitle": false,
     "tableResultSettingsMap": {},
     "title": ""
    }
   },
   "outputs": [],
   "source": [
    "# /Workspace/Users/may.merkletan@databricks.com/hls-proteinfolding/tutorials/chai1/test_output"
   ]
  },
  {
   "cell_type": "code",
   "execution_count": 0,
   "metadata": {
    "application/vnd.databricks.v1+cell": {
     "cellMetadata": {
      "byteLimit": 2048000,
      "rowLimit": 10000
     },
     "inputWidgets": {},
     "nuid": "c968a6dd-cdd8-48ea-8a19-08787ecda8a7",
     "showTitle": true,
     "tableResultSettingsMap": {},
     "title": "you can't just input a sequence..."
    }
   },
   "outputs": [],
   "source": [
    "# %sh \n",
    "# chai-lab fold \"AGSHSMRYFSTSVSRPGRGEPRFIAVGYVDDTQFVR\" test_output"
   ]
  },
  {
   "cell_type": "code",
   "execution_count": 0,
   "metadata": {
    "application/vnd.databricks.v1+cell": {
     "cellMetadata": {
      "byteLimit": 2048000,
      "rowLimit": 10000
     },
     "inputWidgets": {},
     "nuid": "7d0c0acb-5354-4428-ae65-a41469af771b",
     "showTitle": true,
     "tableResultSettingsMap": {},
     "title": "TEST with shell cmd"
    }
   },
   "outputs": [],
   "source": [
    "%sh \n",
    "chai-lab fold test_protein.fasta ./test_output"
   ]
  },
  {
   "cell_type": "code",
   "execution_count": 0,
   "metadata": {
    "application/vnd.databricks.v1+cell": {
     "cellMetadata": {},
     "inputWidgets": {},
     "nuid": "59fac79d-90ec-4241-956b-568288e92f75",
     "showTitle": false,
     "tableResultSettingsMap": {},
     "title": ""
    }
   },
   "outputs": [],
   "source": []
  },
  {
   "cell_type": "code",
   "execution_count": 0,
   "metadata": {
    "application/vnd.databricks.v1+cell": {
     "cellMetadata": {
      "byteLimit": 2048000,
      "rowLimit": 10000
     },
     "inputWidgets": {},
     "nuid": "ab107185-1c0e-4a01-8339-c81d9d319e63",
     "showTitle": true,
     "tableResultSettingsMap": {},
     "title": "import library?"
    }
   },
   "outputs": [],
   "source": [
    "import chai_lab \n",
    "chai_lab.__version__"
   ]
  },
  {
   "cell_type": "code",
   "execution_count": 0,
   "metadata": {
    "application/vnd.databricks.v1+cell": {
     "cellMetadata": {
      "byteLimit": 2048000,
      "rowLimit": 10000
     },
     "inputWidgets": {},
     "nuid": "2631cb1c-5a59-4ad9-8491-3dedfcc04046",
     "showTitle": true,
     "tableResultSettingsMap": {},
     "title": "cell-python function?"
    }
   },
   "outputs": [],
   "source": [
    "## hmm not sure if the module/function has similar calls for python vs shell cmds?\n",
    "\n",
    "# chai_lab.main.run_inference(fasta_file: Path, *, output_dir: Path, use_esm_embeddings: bool=True, use_msa_server: bool=False, msa_server_url: str=\"https://api.colabfold.com\", msa_directory: Path | None=None, constraint_path: Path | None=None, use_templates_server: bool=False, template_hits_path: Path | None=None, recycle_msa_subsample: int=0, num_trunk_recycles: int=3, num_diffn_timesteps: int=200, num_diffn_samples: int=5, num_trunk_samples: int=1, seed: int | None=None, device: str | None=None, low_memory: bool=True) -> StructureCandidates)\n",
    "\n",
    "# some assistant help!\n",
    "# https://github.com/chaidiscovery/chai-lab/blob/main/examples/predict_structure.py"
   ]
  },
  {
   "cell_type": "code",
   "execution_count": 0,
   "metadata": {
    "application/vnd.databricks.v1+cell": {
     "cellMetadata": {
      "byteLimit": 2048000,
      "rowLimit": 10000
     },
     "inputWidgets": {},
     "nuid": "f25e7a84-f698-45ed-9140-da582a5c985c",
     "showTitle": true,
     "tableResultSettingsMap": {},
     "title": "using cell cmd"
    }
   },
   "outputs": [],
   "source": [
    "from pathlib import Path\n",
    "\n",
    "output_dir = Path('test_output2_pyfunc') ## POSIX Path needs to be empty\n",
    "fasta_file = Path('test_protein.fasta')\n",
    "candidates = chai_lab.chai1.run_inference(fasta_file, output_dir=output_dir)"
   ]
  },
  {
   "cell_type": "code",
   "execution_count": 0,
   "metadata": {
    "application/vnd.databricks.v1+cell": {
     "cellMetadata": {
      "byteLimit": 2048000,
      "rowLimit": 10000
     },
     "inputWidgets": {},
     "nuid": "cf0d1b6a-1c3c-48b0-a08c-1e922b49a7d4",
     "showTitle": false,
     "tableResultSettingsMap": {},
     "title": ""
    }
   },
   "outputs": [],
   "source": [
    "candidates"
   ]
  },
  {
   "cell_type": "code",
   "execution_count": 0,
   "metadata": {
    "application/vnd.databricks.v1+cell": {
     "cellMetadata": {
      "byteLimit": 2048000,
      "rowLimit": 10000
     },
     "inputWidgets": {},
     "nuid": "63aa0671-e541-476d-ba7a-94dc713bce9e",
     "showTitle": false,
     "tableResultSettingsMap": {},
     "title": ""
    }
   },
   "outputs": [],
   "source": [
    "cif_paths = candidates.cif_paths\n",
    "agg_scores = [rd.aggregate_score.item() for rd in candidates.ranking_data]\n",
    "agg_scores"
   ]
  },
  {
   "cell_type": "code",
   "execution_count": 0,
   "metadata": {
    "application/vnd.databricks.v1+cell": {
     "cellMetadata": {
      "byteLimit": 2048000,
      "rowLimit": 10000
     },
     "inputWidgets": {},
     "nuid": "d55950b2-386f-4641-9d2c-15aabda117f9",
     "showTitle": true,
     "tableResultSettingsMap": {},
     "title": "not sure what the outputs are about"
    }
   },
   "outputs": [],
   "source": [
    "import numpy as np\n",
    "\n",
    "# Load pTM, ipTM, pLDDTs and clash scores for sample 2\n",
    "scores = np.load(output_dir.joinpath(\"scores.model_idx_2.npz\"))\n",
    "scores"
   ]
  },
  {
   "cell_type": "code",
   "execution_count": 0,
   "metadata": {
    "application/vnd.databricks.v1+cell": {
     "cellMetadata": {
      "byteLimit": 2048000,
      "rowLimit": 10000
     },
     "inputWidgets": {},
     "nuid": "d7ef310f-21f8-4e07-8951-02e84f15979d",
     "showTitle": false,
     "tableResultSettingsMap": {},
     "title": ""
    }
   },
   "outputs": [],
   "source": [
    "[k for k in scores.keys()]"
   ]
  },
  {
   "cell_type": "code",
   "execution_count": 0,
   "metadata": {
    "application/vnd.databricks.v1+cell": {
     "cellMetadata": {
      "byteLimit": 2048000,
      "rowLimit": 10000
     },
     "inputWidgets": {},
     "nuid": "d7bf7c15-3f27-4e95-ac18-1e42d7ecc74b",
     "showTitle": false,
     "tableResultSettingsMap": {},
     "title": ""
    }
   },
   "outputs": [],
   "source": [
    "scores.get('aggregate_score'), scores.get('ptm'), scores.get('iptm'), scores.get('per_chain_ptm'), scores.get('per_chain_pair_iptm'), scores.get('has_inter_chain_clashes'), scores.get('chain_chain_clashes')"
   ]
  },
  {
   "cell_type": "code",
   "execution_count": 0,
   "metadata": {
    "application/vnd.databricks.v1+cell": {
     "cellMetadata": {},
     "inputWidgets": {},
     "nuid": "cdb4a6b5-c7f8-4543-aa1b-34b16a016026",
     "showTitle": false,
     "tableResultSettingsMap": {},
     "title": ""
    }
   },
   "outputs": [],
   "source": [
    "#  might need to review https://github.com/chaidiscovery/chai-lab/tree/main/examples "
   ]
  }
 ],
 "metadata": {
  "application/vnd.databricks.v1+notebook": {
   "computePreferences": null,
   "dashboards": [],
   "environmentMetadata": {
    "base_environment": "",
    "environment_version": "2"
   },
   "inputWidgetPreferences": null,
   "language": "python",
   "notebookMetadata": {
    "mostRecentlyExecutedCommandWithImplicitDF": {
     "commandId": 8827681665634356,
     "dataframes": [
      "_sqldf"
     ]
    },
    "pythonIndentUnit": 4
   },
   "notebookName": "01_explore_installation_simpletest",
   "widgets": {}
  },
  "language_info": {
   "name": "python"
  }
 },
 "nbformat": 4,
 "nbformat_minor": 0
}
