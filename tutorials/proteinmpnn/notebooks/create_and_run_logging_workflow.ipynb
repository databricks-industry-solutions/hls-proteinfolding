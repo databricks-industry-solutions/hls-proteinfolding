{
 "cells": [
  {
   "cell_type": "code",
   "execution_count": 0,
   "metadata": {
    "application/vnd.databricks.v1+cell": {
     "cellMetadata": {
      "byteLimit": 2048000,
      "rowLimit": 10000
     },
     "inputWidgets": {},
     "nuid": "aee2d6a4-2142-428c-8939-ebb0e7ac1b09",
     "showTitle": false,
     "tableResultSettingsMap": {},
     "title": ""
    }
   },
   "outputs": [],
   "source": [
    "%pip install pyyaml\n",
    "%restart_python"
   ]
  },
  {
   "cell_type": "code",
   "execution_count": 0,
   "metadata": {
    "application/vnd.databricks.v1+cell": {
     "cellMetadata": {
      "byteLimit": 2048000,
      "rowLimit": 10000
     },
     "inputWidgets": {},
     "nuid": "e40e8221-8515-478d-8ecf-0ca5c215db63",
     "showTitle": false,
     "tableResultSettingsMap": {},
     "title": ""
    }
   },
   "outputs": [],
   "source": [
    "email = \"me@org.com\"\n",
    "\n",
    "# For Azure\n",
    "compute = \"Standard_NC4as_T4_v3\"\n",
    "\n",
    "notebook_path = dbutils.notebook.entry_point.getDbutils().notebook().getContext().notebookPath().get()\n",
    "directory_path = '/'.join(notebook_path.split('/')[:-1])\n",
    "default_yaml_path = \"/Workspace\"+directory_path+\"/../resources/setup_workflow.yaml\"\n",
    "notebooks_path = \"/Workspace\"+directory_path"
   ]
  },
  {
   "cell_type": "code",
   "execution_count": 0,
   "metadata": {
    "application/vnd.databricks.v1+cell": {
     "cellMetadata": {
      "byteLimit": 2048000,
      "rowLimit": 10000
     },
     "inputWidgets": {},
     "nuid": "3a39a5e6-f8c2-40ca-b5ac-c17185d0eaae",
     "showTitle": false,
     "tableResultSettingsMap": {},
     "title": ""
    }
   },
   "outputs": [],
   "source": [
    "import re\n",
    "with open(default_yaml_path, 'r') as file:\n",
    "    yaml_content = file.read()\n",
    "\n",
    "updated_yaml_content = re.sub(r'<email>', email, yaml_content)\n",
    "updated_yaml_content = re.sub(r'<notebooks_path>', notebooks_path, updated_yaml_content)\n",
    "updated_yaml_content = re.sub(r'<compute>', compute, updated_yaml_content)\n",
    "\n",
    "print(updated_yaml_content)"
   ]
  },
  {
   "cell_type": "code",
   "execution_count": 0,
   "metadata": {
    "application/vnd.databricks.v1+cell": {
     "cellMetadata": {
      "byteLimit": 2048000,
      "rowLimit": 10000
     },
     "inputWidgets": {},
     "nuid": "783dd7de-e1e7-4235-a6ed-6827146d9215",
     "showTitle": false,
     "tableResultSettingsMap": {},
     "title": ""
    }
   },
   "outputs": [],
   "source": [
    "from databricks.sdk import WorkspaceClient\n",
    "from databricks.sdk.service.jobs import JobSettings\n",
    "from typing import Optional\n",
    "import yaml\n",
    "\n",
    "def create_job_from_yaml(yaml_path: Optional[str] = None, yaml_str: Optional[str] = None):\n",
    "    if yaml_path is not None:\n",
    "        with open(yaml_path) as f:\n",
    "            config = yaml.safe_load(f)\n",
    "    elif yaml_str is not None:\n",
    "        config = yaml.safe_load(yaml_str)\n",
    "    else:\n",
    "        raise ValueError(\"Either yaml_path or yaml_str must be provided\")\n",
    "    \n",
    "    outer_name = [k for k in config['resources']['jobs'].keys()][0]\n",
    "  \n",
    "    # Full job settings deserialization\n",
    "    job_settings = JobSettings.from_dict(config['resources']['jobs'][outer_name])\n",
    "    \n",
    "    # instantiate the client\n",
    "    w = WorkspaceClient()\n",
    "    \n",
    "    # create a job just with name\n",
    "    creation_info = w.jobs.create(name='new created job')\n",
    "    # now use job settings object to populate\n",
    "    w.jobs.reset(\n",
    "        job_id=creation_info.job_id,\n",
    "        new_settings=job_settings,\n",
    "    )\n",
    "    return creation_info.job_id\n",
    "\n",
    "try:\n",
    "    job_id = create_job_from_yaml(yaml_str = updated_yaml_content)\n",
    "    print(f\"Created job {job_id}\")\n",
    "except Exception as e:\n",
    "    print(f\"Job creation failed: {e}\")"
   ]
  },
  {
   "cell_type": "code",
   "execution_count": 0,
   "metadata": {
    "application/vnd.databricks.v1+cell": {
     "cellMetadata": {},
     "inputWidgets": {},
     "nuid": "9b274cd6-9553-44d8-92d7-1428596d3240",
     "showTitle": false,
     "tableResultSettingsMap": {},
     "title": ""
    }
   },
   "outputs": [],
   "source": [
    "w = WorkspaceClient()\n",
    "run_by_id = w.jobs.run_now_and_wait(job_id=job_id).result()\n",
    "# clean up the no longer needed job\n",
    "w.jobs.delete(job_id=job_id)"
   ]
  },
  {
   "cell_type": "markdown",
   "metadata": {
    "application/vnd.databricks.v1+cell": {
     "cellMetadata": {},
     "inputWidgets": {},
     "nuid": "0e423f1d-4763-4203-a653-de4437a82576",
     "showTitle": false,
     "tableResultSettingsMap": {},
     "title": ""
    }
   },
   "source": []
  }
 ],
 "metadata": {
  "application/vnd.databricks.v1+notebook": {
   "computePreferences": null,
   "dashboards": [],
   "environmentMetadata": {
    "base_environment": "",
    "environment_version": "2"
   },
   "language": "python",
   "notebookMetadata": {
    "pythonIndentUnit": 4
   },
   "notebookName": "create_and_run_logging_workflow",
   "widgets": {}
  },
  "language_info": {
   "name": "python"
  }
 },
 "nbformat": 4,
 "nbformat_minor": 0
}
