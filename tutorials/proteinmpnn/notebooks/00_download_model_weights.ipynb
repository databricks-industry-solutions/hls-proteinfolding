{
 "cells": [
  {
   "cell_type": "markdown",
   "metadata": {
    "application/vnd.databricks.v1+cell": {
     "cellMetadata": {},
     "inputWidgets": {},
     "nuid": "9cf8c491-315b-4049-aec1-90f6a09b0bae",
     "showTitle": false,
     "tableResultSettingsMap": {},
     "title": ""
    }
   },
   "source": [
    "## Download model weights to UC Volume"
   ]
  },
  {
   "cell_type": "code",
   "execution_count": 0,
   "metadata": {
    "application/vnd.databricks.v1+cell": {
     "cellMetadata": {
      "byteLimit": 2048000,
      "implicitDf": true,
      "rowLimit": 10000
     },
     "inputWidgets": {},
     "nuid": "c823b6bc-df21-4ee2-bd16-ce9e9b01b2ae",
     "showTitle": false,
     "tableResultSettingsMap": {},
     "title": ""
    }
   },
   "outputs": [],
   "source": [
    "%sql\n",
    "CREATE CATALOG IF NOT EXISTS protein_folding;\n",
    "CREATE SCHEMA IF NOT EXISTS protein_folding.proteinmpnn;\n",
    "CREATE VOLUME IF NOT EXISTS protein_folding.proteinmpnn.model_weights;"
   ]
  },
  {
   "cell_type": "code",
   "execution_count": 0,
   "metadata": {
    "application/vnd.databricks.v1+cell": {
     "cellMetadata": {
      "byteLimit": 2048000,
      "rowLimit": 10000
     },
     "inputWidgets": {},
     "nuid": "4061a2d2-c1b5-438e-9825-795ea4107311",
     "showTitle": false,
     "tableResultSettingsMap": {},
     "title": ""
    }
   },
   "outputs": [],
   "source": [
    "%sh\n",
    "mkdir -p /local_disk0/repos\n",
    "cd /local_disk0/repos\n",
    "git clone https://github.com/dauparas/ProteinMPNN.git"
   ]
  },
  {
   "cell_type": "code",
   "execution_count": 0,
   "metadata": {
    "application/vnd.databricks.v1+cell": {
     "cellMetadata": {
      "byteLimit": 2048000,
      "rowLimit": 10000
     },
     "inputWidgets": {},
     "nuid": "a9eeb97e-3be8-41d2-8d83-0dd906aa4d34",
     "showTitle": false,
     "tableResultSettingsMap": {},
     "title": ""
    }
   },
   "outputs": [],
   "source": [
    "# models = ['002', '010', '020']\n",
    "# import requests\n",
    "# for m in models:\n",
    "#     url = f\"https://github.com/dauparas/ProteinMPNN/blob/main/ca_model_weights/v_48_{m}.pt\"\n",
    "#     file_name = f\"/Volumes/protein_folding/proteinmpnn/model_weights/v_48_{m}.pt\"\n",
    "#     response = requests.get(url, allow_redirects=True)\n",
    "#     with open(file_name, 'w') as file:\n",
    "#         file.write(response.content)"
   ]
  },
  {
   "cell_type": "code",
   "execution_count": 0,
   "metadata": {
    "application/vnd.databricks.v1+cell": {
     "cellMetadata": {
      "byteLimit": 2048000,
      "rowLimit": 10000
     },
     "inputWidgets": {},
     "nuid": "da87f13c-b4a6-4541-a64b-7dab2d4ca09a",
     "showTitle": false,
     "tableResultSettingsMap": {},
     "title": ""
    }
   },
   "outputs": [],
   "source": [
    "%sh\n",
    "cp -r /local_disk0/repos/ProteinMPNN/ca_model_weights /Volumes/protein_folding/proteinmpnn/model_weights/\n",
    "cp -r /local_disk0/repos/ProteinMPNN/vanilla_model_weights /Volumes/protein_folding/proteinmpnn/model_weights/\n",
    "cp -r /local_disk0/repos/ProteinMPNN/soluble_model_weights /Volumes/protein_folding/proteinmpnn/model_weights/"
   ]
  },
  {
   "cell_type": "code",
   "execution_count": 0,
   "metadata": {
    "application/vnd.databricks.v1+cell": {
     "cellMetadata": {
      "byteLimit": 2048000,
      "rowLimit": 10000
     },
     "inputWidgets": {},
     "nuid": "e74a9f04-9503-486e-844e-9ad821132688",
     "showTitle": false,
     "tableResultSettingsMap": {},
     "title": ""
    }
   },
   "outputs": [],
   "source": [
    "%sh\n",
    "ls /Volumes/protein_folding/proteinmpnn/model_weights/ca_model_weights"
   ]
  },
  {
   "cell_type": "code",
   "execution_count": 0,
   "metadata": {
    "application/vnd.databricks.v1+cell": {
     "cellMetadata": {},
     "inputWidgets": {},
     "nuid": "728df164-57a2-4a47-86c3-83fe2c54edea",
     "showTitle": false,
     "tableResultSettingsMap": {},
     "title": ""
    }
   },
   "outputs": [],
   "source": []
  }
 ],
 "metadata": {
  "application/vnd.databricks.v1+notebook": {
   "computePreferences": null,
   "dashboards": [],
   "environmentMetadata": {
    "base_environment": "",
    "environment_version": "2"
   },
   "inputWidgetPreferences": null,
   "language": "python",
   "notebookMetadata": {
    "mostRecentlyExecutedCommandWithImplicitDF": {
     "commandId": 8187281512173528,
     "dataframes": [
      "_sqldf"
     ]
    },
    "pythonIndentUnit": 4
   },
   "notebookName": "00_download_model_weights",
   "widgets": {}
  },
  "language_info": {
   "name": "python"
  }
 },
 "nbformat": 4,
 "nbformat_minor": 0
}
