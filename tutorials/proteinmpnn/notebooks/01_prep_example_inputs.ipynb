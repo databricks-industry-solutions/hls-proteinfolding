{
 "cells": [
  {
   "cell_type": "markdown",
   "metadata": {
    "application/vnd.databricks.v1+cell": {
     "cellMetadata": {},
     "inputWidgets": {},
     "nuid": "1bfff634-dfdd-4f59-8fda-f2e488f98928",
     "showTitle": false,
     "tableResultSettingsMap": {},
     "title": ""
    }
   },
   "source": [
    "### Grab example PDB and convert to backbone only\n",
    "- Additionally, run the data preparation to JSONL per ProteinMPNN package"
   ]
  },
  {
   "cell_type": "code",
   "execution_count": 0,
   "metadata": {
    "application/vnd.databricks.v1+cell": {
     "cellMetadata": {
      "byteLimit": 2048000,
      "rowLimit": 10000
     },
     "inputWidgets": {},
     "nuid": "ac421d30-1475-42ba-8e0b-5fc8772c518c",
     "showTitle": false,
     "tableResultSettingsMap": {},
     "title": ""
    }
   },
   "outputs": [],
   "source": [
    "%pip install biopython\n",
    "%pip install ../proteinmpnn\n",
    "# some extras we specify with pip requirements file to handle the extra url paths needed for odd cuda specific versions of packages\n",
    "# %pip install -r ../envs/requirements.txt\n",
    "dbutils.library.restartPython()"
   ]
  },
  {
   "cell_type": "code",
   "execution_count": 0,
   "metadata": {
    "application/vnd.databricks.v1+cell": {
     "cellMetadata": {
      "byteLimit": 2048000,
      "rowLimit": 10000
     },
     "inputWidgets": {},
     "nuid": "58ae73cc-cc49-463d-875d-8cd7f987b771",
     "showTitle": false,
     "tableResultSettingsMap": {},
     "title": ""
    }
   },
   "outputs": [],
   "source": [
    "import sys\n",
    "sys.path.append('../')"
   ]
  },
  {
   "cell_type": "code",
   "execution_count": 0,
   "metadata": {
    "application/vnd.databricks.v1+cell": {
     "cellMetadata": {
      "byteLimit": 2048000,
      "rowLimit": 10000
     },
     "inputWidgets": {},
     "nuid": "bce89e58-81a2-477f-94b6-fe8bff2ec43b",
     "showTitle": false,
     "tableResultSettingsMap": {},
     "title": ""
    }
   },
   "outputs": [],
   "source": [
    "import Bio.PDB as PDB\n",
    "def convert_to_backbone(pdb_file_path, output_file_path, chain_id='A'):\n",
    "    parser = PDB.PDBParser(QUIET=True)\n",
    "    structure = parser.get_structure('protein', pdb_file_path)\n",
    "\n",
    "    new_structure = PDB.Structure.Structure('backbone')\n",
    "    new_model = PDB.Model.Model(0)\n",
    "    new_chain = PDB.Chain.Chain(chain_id) \n",
    "    new_structure.add(new_model)\n",
    "    new_model.add(new_chain)\n",
    "\n",
    "    residue_id = 1 \n",
    "    for model in structure:\n",
    "        for chain in model:\n",
    "            if chain.id==chain_id:\n",
    "                for residue in chain:\n",
    "                    if residue.id[0] != ' ' or residue.resname == 'HOH':\n",
    "                        continue\n",
    "                    print(residue)\n",
    "                    first_atom = True\n",
    "                    for atom in residue:\n",
    "                        if atom.altloc == 'A' or atom.altloc == ' ':\n",
    "                            if atom.name in ['N', 'CA', 'C', 'O']:\n",
    "                                # print(residue, atom)\n",
    "                                if first_atom:\n",
    "                                    # print(\"is first\")\n",
    "                                    new_residue = PDB.Residue.Residue((' ', residue_id, ' '), 'GLY', ' ')\n",
    "                                    first_atom = False\n",
    "                                new_residue.add(atom)  # Add the backbone atom to the new residue\n",
    "                    try:\n",
    "                        last_one = [r for r in new_chain.get_residues()][-1]\n",
    "                    except:\n",
    "                        last_one = None\n",
    "                    if last_one!=new_residue:\n",
    "                        new_chain.add(new_residue)\n",
    "                    residue_id += 1  # Increment residue ID\n",
    "\n",
    "    # Step 3: Write the modified alpha carbons to a new PDB file\n",
    "    io = PDB.PDBIO()\n",
    "    io.set_structure(new_structure)\n",
    "    io.save(output_file_path)"
   ]
  },
  {
   "cell_type": "markdown",
   "metadata": {
    "application/vnd.databricks.v1+cell": {
     "cellMetadata": {},
     "inputWidgets": {},
     "nuid": "132a8bbc-6085-4418-bf3e-087919b622fb",
     "showTitle": false,
     "tableResultSettingsMap": {},
     "title": ""
    }
   },
   "source": [
    "#### Now actually donwload a PDB and process to backbone"
   ]
  },
  {
   "cell_type": "code",
   "execution_count": 0,
   "metadata": {
    "application/vnd.databricks.v1+cell": {
     "cellMetadata": {
      "byteLimit": 2048000,
      "rowLimit": 10000
     },
     "inputWidgets": {},
     "nuid": "966e3063-296f-412e-a48c-ddd539b31686",
     "showTitle": false,
     "tableResultSettingsMap": {},
     "title": ""
    }
   },
   "outputs": [],
   "source": [
    "# Download the PDB file\n",
    "import requests\n",
    "\n",
    "url = \"https://files.rcsb.org/download/5yd3.pdb\"\n",
    "import tempfile\n",
    "\n",
    "response = requests.get(url)\n",
    "with tempfile.NamedTemporaryFile(delete=False, suffix=\".pdb\") as temp_file:\n",
    "    temp_file.write(response.content)\n",
    "    init_pdb_str = response.content.decode('utf-8')\n",
    "    pdb_file_path = temp_file.name\n",
    "    convert_to_backbone(pdb_file_path,'../example_data/inputs/5yd3.pdb')"
   ]
  },
  {
   "cell_type": "markdown",
   "metadata": {
    "application/vnd.databricks.v1+cell": {
     "cellMetadata": {},
     "inputWidgets": {},
     "nuid": "eb1b0b3e-0825-40b0-99f3-dba9e609c841",
     "showTitle": false,
     "tableResultSettingsMap": {},
     "title": ""
    }
   },
   "source": [
    "#### Convert the pdb backbone to JSONL format"
   ]
  },
  {
   "cell_type": "code",
   "execution_count": 0,
   "metadata": {
    "application/vnd.databricks.v1+cell": {
     "cellMetadata": {
      "byteLimit": 2048000,
      "rowLimit": 10000
     },
     "inputWidgets": {},
     "nuid": "707ee55f-4263-47e8-abe1-b553c7a54419",
     "showTitle": false,
     "tableResultSettingsMap": {},
     "title": ""
    }
   },
   "outputs": [],
   "source": [
    "import requests\n",
    "from proteinmpnn.parse_multiple_chains import main, get_argparser\n",
    "url = \"https://files.rcsb.org/download/5yd3.pdb\"\n",
    "import tempfile\n",
    "import shutil\n",
    "\n",
    "parser = get_argparser()\n",
    "\n",
    "with tempfile.TemporaryDirectory() as temp_dir:\n",
    "    response = requests.get(url)\n",
    "\n",
    "    # pre-clean the structure to a given chain, the actual removal of CA not necessary...\n",
    "    with tempfile.NamedTemporaryFile(delete=False, suffix=\".pdb\") as temp_file:\n",
    "        temp_file.write(response.content)\n",
    "        pdb_file_path = temp_file.name\n",
    "        convert_to_backbone(pdb_file_path,'../example_data/inputs/5yd3_backbone.pdb')\n",
    "        \n",
    "        shutil.copy(\n",
    "            '../example_data/inputs/5yd3_backbone.pdb', \n",
    "            temp_dir + \"/5yd3.pdb\"\n",
    "        )\n",
    "\n",
    "    arg_list = []\n",
    "    arg_list.extend(['--ca_only'])\n",
    "    arg_list.extend(['--input_path', temp_dir])\n",
    "    arg_list.extend(['--output_path', '../example_data/inputs/example_inputs.jsonl'])\n",
    "    args = parser.parse_args(arg_list)\n",
    "    main(args)\n",
    "\n",
    "    "
   ]
  },
  {
   "cell_type": "code",
   "execution_count": 0,
   "metadata": {
    "application/vnd.databricks.v1+cell": {
     "cellMetadata": {},
     "inputWidgets": {},
     "nuid": "5bb263b9-623a-455f-9601-b325b0d54f18",
     "showTitle": false,
     "tableResultSettingsMap": {},
     "title": ""
    }
   },
   "outputs": [],
   "source": []
  }
 ],
 "metadata": {
  "application/vnd.databricks.v1+notebook": {
   "computePreferences": null,
   "dashboards": [],
   "environmentMetadata": {
    "base_environment": "",
    "environment_version": "2"
   },
   "inputWidgetPreferences": null,
   "language": "python",
   "notebookMetadata": {
    "pythonIndentUnit": 4
   },
   "notebookName": "01_prep_example_inputs",
   "widgets": {}
  },
  "language_info": {
   "name": "python"
  }
 },
 "nbformat": 4,
 "nbformat_minor": 0
}
