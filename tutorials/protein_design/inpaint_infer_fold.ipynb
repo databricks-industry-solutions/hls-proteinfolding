{
 "cells": [
  {
   "cell_type": "markdown",
   "metadata": {
    "application/vnd.databricks.v1+cell": {
     "cellMetadata": {},
     "inputWidgets": {},
     "nuid": "7eee6b43-c556-422b-94fd-adb86fa44cb9",
     "showTitle": false,
     "tableResultSettingsMap": {},
     "title": ""
    }
   },
   "source": [
    "## Inpaint a region of a protein to design new sequences and fold them \n",
    "\n",
    "### For a sequence of interest with region to be inpainted denoted with \"[]\"\n",
    " - e.g input: CASTTFG\\[DASTT\\]KFTDYD\n",
    " 1. Use **ESMfold** to predict the structure of the original sequence\n",
    " 2. Use **RFdiffusion** to inpaint the region selected (3 designs)\n",
    " 3. Use **ProteinMPNN** to infer sequences of these new designs (3 sequences for each design, 9 total sequences)\n",
    " 4. Use **ESMfold** to predict the new Structures for each design (9 new structures)"
   ]
  },
  {
   "cell_type": "code",
   "execution_count": 0,
   "metadata": {
    "application/vnd.databricks.v1+cell": {
     "cellMetadata": {
      "byteLimit": 2048000,
      "rowLimit": 10000
     },
     "inputWidgets": {},
     "nuid": "1d3f51d0-67b3-48c5-9ee9-7cda27e1cebb",
     "showTitle": false,
     "tableResultSettingsMap": {},
     "title": ""
    }
   },
   "outputs": [],
   "source": [
    "%pip install biopython==1.79\n",
    "%pip install py3Dmol\n",
    "%pip install mlflow>=2.18\n",
    "dbutils.library.restartPython()"
   ]
  },
  {
   "cell_type": "code",
   "execution_count": 0,
   "metadata": {
    "application/vnd.databricks.v1+cell": {
     "cellMetadata": {
      "byteLimit": 2048000,
      "rowLimit": 10000
     },
     "inputWidgets": {},
     "nuid": "bd12e483-462a-45fa-ba8a-7d1edcf9dc20",
     "showTitle": false,
     "tableResultSettingsMap": {},
     "title": ""
    }
   },
   "outputs": [],
   "source": [
    "import os\n",
    "import requests\n",
    "import json\n",
    "import mlflow"
   ]
  },
  {
   "cell_type": "code",
   "execution_count": 0,
   "metadata": {
    "application/vnd.databricks.v1+cell": {
     "cellMetadata": {
      "byteLimit": 2048000,
      "rowLimit": 10000
     },
     "inputWidgets": {},
     "nuid": "1e33d20b-5398-4a64-b127-6f6bc6248ff0",
     "showTitle": false,
     "tableResultSettingsMap": {},
     "title": ""
    }
   },
   "outputs": [],
   "source": [
    "DATABRICKS_TOKEN = dbutils.notebook.entry_point.getDbutils().notebook().getContext().apiToken().get()\n",
    "DATABRICKS_URL = dbutils.notebook.entry_point.getDbutils().notebook().getContext().apiUrl().get()\n",
    "\n",
    "def hit_model_endpoint(endpoint_name, inputs):\n",
    "    url = f'{DATABRICKS_URL}/serving-endpoints/{endpoint_name}/invocations'\n",
    "    headers = {'Authorization': f'Bearer {DATABRICKS_TOKEN}', 'Content-Type': 'application/json'}\n",
    "    ds_dict = {'inputs':inputs}\n",
    "    data_json = json.dumps(ds_dict, allow_nan=True)\n",
    "    response = requests.request(method='POST', headers=headers, url=url, data=data_json)\n",
    "    if response.status_code != 200:\n",
    "        raise Exception(f'Request failed with status {response.status_code}, {response.text}')\n",
    "    return response.json()\n",
    "\n",
    "@mlflow.trace(span_type=\"LLM\")\n",
    "def hit_esmfold(sequence):\n",
    "    return hit_model_endpoint('esmfold', [sequence])['predictions'][0]\n",
    "\n",
    "@mlflow.trace(span_type=\"TOOL\")\n",
    "def hit_rfdiffusion(input_dict):\n",
    "    return hit_model_endpoint('rfdiffusion_inpaint', [input_dict])['predictions'][0]\n",
    "\n",
    "@mlflow.trace(span_type=\"TOOL\")\n",
    "def hit_proteinmpnn(pdb_str):\n",
    "    return hit_model_endpoint('proteinmpnn', [pdb_str])['predictions']\n"
   ]
  },
  {
   "cell_type": "code",
   "execution_count": 0,
   "metadata": {
    "application/vnd.databricks.v1+cell": {
     "cellMetadata": {
      "byteLimit": 2048000,
      "rowLimit": 10000
     },
     "inputWidgets": {},
     "nuid": "96519ac6-b0b4-4ac9-88b0-665758b5b975",
     "showTitle": false,
     "tableResultSettingsMap": {},
     "title": ""
    }
   },
   "outputs": [],
   "source": [
    "from Bio.PDB import PDBList\n",
    "from Bio.PDB import PDBParser\n",
    "from Bio import PDB\n",
    "import tempfile\n",
    "\n",
    "@mlflow.trace(span_type=\"TOOL\")\n",
    "def extract_chain_reindex(structure, chain_id='A'):\n",
    "    # Extract chain A\n",
    "    chain = structure[0][chain_id]\n",
    "    \n",
    "    # Create a new structure with only chain A & 1-indexed\n",
    "    new_structure = PDB.Structure.Structure('new_structure')\n",
    "    new_model = PDB.Model.Model(0)\n",
    "    new_chain = PDB.Chain.Chain(chain_id)\n",
    "    \n",
    "    # Reindex residues starting from 1\n",
    "    for i, residue in enumerate(chain, start=1):\n",
    "        if residue.id[0] == ' ':  # Ensure no HETATM\n",
    "            residue.id = (' ', i, ' ')\n",
    "            new_chain.add(residue)\n",
    "    \n",
    "    new_model.add(new_chain)\n",
    "    new_structure.add(new_model)\n",
    "    \n",
    "    # Save the new structure to a PDB file\n",
    "    io = PDB.PDBIO()\n",
    "    io.set_structure(new_structure)\n",
    "    with tempfile.NamedTemporaryFile(suffix='.pdb') as f:\n",
    "        io.save(f.name)\n",
    "        with open(f.name, 'r') as f_handle:\n",
    "            pdb_text = f_handle.read()\n",
    "    return pdb_text"
   ]
  },
  {
   "cell_type": "code",
   "execution_count": 0,
   "metadata": {
    "application/vnd.databricks.v1+cell": {
     "cellMetadata": {
      "byteLimit": 2048000,
      "rowLimit": 10000
     },
     "inputWidgets": {},
     "nuid": "428c5037-30d8-4723-bff0-6d9c59b4c548",
     "showTitle": false,
     "tableResultSettingsMap": {},
     "title": ""
    }
   },
   "outputs": [],
   "source": [
    "@mlflow.trace(span_type=\"TOOL\")\n",
    "def parse_sequence(sequence):\n",
    "    # Get index of \"[\" and \"]\"\n",
    "    start_idx = sequence.find(\"[\")\n",
    "    end_idx = sequence.find(\"]\")\n",
    "\n",
    "    raw_sequence = sequence.replace(\"[\", \"\").replace(\"]\", \"\")\n",
    "    return {\n",
    "        \"sequence\": raw_sequence,\n",
    "        \"start_idx\": start_idx,\n",
    "        \"end_idx\": end_idx,\n",
    "    }\n",
    "\n",
    "@mlflow.trace(span_type=\"TOOL\")\n",
    "def make_designs(sequence):\n",
    "\n",
    "    seq_details = parse_sequence(sequence)\n",
    "    esmfold_initial = hit_esmfold(seq_details['sequence'])\n",
    "\n",
    "    # take the output and modify so that bewteen start and end idx residues are replaced with Glycine and only CA kept\n",
    "    with tempfile.NamedTemporaryFile(suffix='.pdb') as f:\n",
    "        with open(f.name, 'w') as fw:\n",
    "            fw.write(esmfold_initial)\n",
    "        structure = PDBParser().get_structure(\"esmfold\", f.name)\n",
    "    \n",
    "    modified_pdb_text = extract_chain_reindex(\n",
    "        structure, \n",
    "        chain_id='A'\n",
    "    )\n",
    "\n",
    "    # now pass that modified structure to rfdifffusion as string\n",
    "    designed_pdb_strs = []\n",
    "    for i in range(3):\n",
    "        designed_pdb = hit_rfdiffusion({\n",
    "            'pdb': modified_pdb_text,\n",
    "            'start_idx': seq_details['start_idx'],\n",
    "            'end_idx': seq_details['end_idx'],\n",
    "        })\n",
    "        designed_pdb_strs.append(designed_pdb)\n",
    "    \n",
    "    all_seqs = []\n",
    "    for pdb_ in designed_pdb_strs:\n",
    "        all_seqs.extend(hit_proteinmpnn(pdb_))\n",
    "    \n",
    "    all_pdbs = []\n",
    "    for s in all_seqs:\n",
    "        all_pdbs.append(hit_esmfold(s))\n",
    "\n",
    "    return {\n",
    "        'initial': esmfold_initial,\n",
    "        'designed': all_pdbs\n",
    "    }"
   ]
  },
  {
   "cell_type": "code",
   "execution_count": 0,
   "metadata": {
    "application/vnd.databricks.v1+cell": {
     "cellMetadata": {
      "byteLimit": 2048000,
      "rowLimit": 10000
     },
     "inputWidgets": {},
     "nuid": "a5886416-d72e-42e8-b31e-955a12b385fd",
     "showTitle": false,
     "tableResultSettingsMap": {},
     "title": ""
    }
   },
   "outputs": [],
   "source": [
    "# SARS-CoV2 with [] around loop region near ACE2 binding site\n",
    "\n",
    "cov2_rbd = \"PTESIVRFPNITNLCPFGEVFNATRFASVYAWNRKRISNCVADYSVLYNSASFSTFKCYGVSPTKLNDLCFTNVYADSFVIRGDEVRQIAPGQTGKIADYNYKLPDDFTGCVIAWNSNNLDSKVGGNYNYLYRLFRKSNLKPF[ERDISTEIYQAGSTPCNGVEGFNCYFPLQSY]GFQPTNGVGYQPYRVVVLSFELLHAPATVCGPKKSTNLVKNKCVNF\""
   ]
  },
  {
   "cell_type": "code",
   "execution_count": 0,
   "metadata": {
    "application/vnd.databricks.v1+cell": {
     "cellMetadata": {
      "byteLimit": 2048000,
      "rowLimit": 10000
     },
     "inputWidgets": {},
     "nuid": "b49d56e6-dc51-44cf-9a35-3d1d36bfc004",
     "showTitle": false,
     "tableResultSettingsMap": {},
     "title": ""
    }
   },
   "outputs": [],
   "source": [
    "designed_pdbs = make_designs(cov2_rbd)"
   ]
  },
  {
   "cell_type": "code",
   "execution_count": 0,
   "metadata": {
    "application/vnd.databricks.v1+cell": {
     "cellMetadata": {
      "byteLimit": 2048000,
      "rowLimit": 10000
     },
     "inputWidgets": {},
     "nuid": "a84cc5af-8bf1-48bb-a930-3f70df55318f",
     "showTitle": false,
     "tableResultSettingsMap": {},
     "title": ""
    }
   },
   "outputs": [],
   "source": [
    "import Bio.PDB as bp\n",
    "from Bio import pairwise2\n",
    "from Bio.pairwise2 import format_alignment\n",
    "import numpy as np\n",
    "import os\n",
    "import tempfile\n",
    "\n",
    "class ChainSelect(bp.Select):\n",
    "    def __init__(self, chain):\n",
    "        self.chain = chain\n",
    "\n",
    "    def accept_residue(self, residue):\n",
    "        \"\"\" remove hetatm \"\"\"\n",
    "        return 1 if residue.id[0] == \" \" else 0\n",
    "\n",
    "    def accept_chain(self, chain):\n",
    "        if chain.get_id() == self.chain:\n",
    "            return 1\n",
    "        else:          \n",
    "            return 0\n",
    "        \n",
    "\n",
    "def get_seq_alignment(structure1, structure2):\n",
    "    \"\"\" structures can be biopy.PDB.Structures, Models, or Chains \"\"\"\n",
    "    seq1 = \"\"\n",
    "    seq2 = \"\"\n",
    "    for residue in structure1.get_residues():\n",
    "        seq1 += residue.get_resname()[0]\n",
    "    for residue in structure2.get_residues():\n",
    "        seq2 += residue.get_resname()[0]\n",
    "\n",
    "    alignment = pairwise2.align.localxx(seq1, seq2)\n",
    "    return alignment\n",
    "\n",
    "def get_backbone_atoms(structure):\n",
    "    backbone_atoms = []\n",
    "    for atom in structure.get_atoms():\n",
    "        if atom.get_name() in ['N', 'CA', 'C']:\n",
    "            backbone_atoms.append(atom)\n",
    "    return backbone_atoms\n",
    "\n",
    "def get_overlapping_backbone(structure1, structure2):\n",
    "    \"\"\" structures can be biopy.PDB.Structures, Models, or Chains \"\"\"\n",
    "    alignment = get_seq_alignment(structure1,structure2)\n",
    "\n",
    "    seq=\"\"\n",
    "    a_count=0\n",
    "    b_count=0\n",
    "    a_residues=[r for r in structure1.get_residues()]\n",
    "    b_residues=[r for r in structure2.get_residues()]\n",
    "    a_backbone = []\n",
    "    b_backbone = []\n",
    "\n",
    "    for idx,(i,j) in enumerate(zip(alignment[0].seqA,alignment[0].seqB)):\n",
    "        if i!='-' and j!='-':\n",
    "            if i==j:\n",
    "                seq+=i\n",
    "            # print(a_residues[a_count].resname,b_residues[b_count].resname)\n",
    "            a_backbone.extend(get_backbone_atoms(a_residues[a_count]))\n",
    "            b_backbone.extend(get_backbone_atoms(b_residues[b_count]))\n",
    "        if i!='-':\n",
    "            a_count+=1\n",
    "        if j!='-':\n",
    "            b_count+=1\n",
    "    return {'atoms1':a_backbone, 'atoms2':b_backbone, 'seq':seq} \n",
    "\n",
    "def pdb_to_str(fpath):\n",
    "    with open(fpath, 'r') as f:\n",
    "        lines = f.readlines()\n",
    "    return ''.join(lines)\n",
    "\n",
    "def select_and_align(true_structure,af_structure):\n",
    "    mmcif_parser = bp.MMCIFParser()\n",
    "    pdb_parser = bp.PDBParser()\n",
    "\n",
    "    alignment_scores = dict()\n",
    "    for chain in true_structure.get_chains():\n",
    "        ali = get_seq_alignment(af_structure, chain)[0]\n",
    "        alignment_scores[chain.id] = ali.score\n",
    "    max_overlapping_chain = max(alignment_scores, key=alignment_scores.get)\n",
    "\n",
    "    # get Bio.PDB structure of just the chain of interest\n",
    "    with tempfile.TemporaryDirectory() as tmp: \n",
    "        io = bp.PDBIO()\n",
    "        io.set_structure(true_structure)\n",
    "        new_name = os.path.join(tmp,\"true_structure_singlechain.pdb\")\n",
    "        io.save(\n",
    "            new_name,\n",
    "            ChainSelect(max_overlapping_chain)\n",
    "        )\n",
    "        true_structure = pdb_parser.get_structure('true', new_name)\n",
    "\n",
    "    alignment_dict = get_overlapping_backbone(true_structure, af_structure)\n",
    "    ref_backbone_atoms = alignment_dict['atoms1']\n",
    "    af_backbone_atoms = alignment_dict['atoms2']\n",
    "\n",
    "    imposer = bp.Superimposer()\n",
    "    imposer.set_atoms(\n",
    "        ref_backbone_atoms,\n",
    "        af_backbone_atoms \n",
    "    )\n",
    "    imposer.apply(af_structure.get_atoms())\n",
    "\n",
    "    with tempfile.TemporaryDirectory() as tmp:\n",
    "        # create temp files of aligned structures\n",
    "        io = bp.PDBIO()\n",
    "        io.set_structure(af_structure)\n",
    "        io.save(os.path.join(tmp,\"af_s.pdb\"))\n",
    "        io.set_structure(true_structure)\n",
    "        io.save(os.path.join(tmp,\"tr_s.pdb\"))\n",
    "        af_structure_str = pdb_to_str(os.path.join(tmp,\"af_s.pdb\")) \n",
    "        true_structure_str = pdb_to_str(os.path.join(tmp,\"tr_s.pdb\")) \n",
    "    return true_structure_str, af_structure_str\n",
    "\n",
    "    \n",
    "\n"
   ]
  },
  {
   "cell_type": "code",
   "execution_count": 0,
   "metadata": {
    "application/vnd.databricks.v1+cell": {
     "cellMetadata": {
      "byteLimit": 2048000,
      "rowLimit": 10000
     },
     "inputWidgets": {},
     "nuid": "0495e79b-025f-43b4-a92d-4ed21210cd76",
     "showTitle": false,
     "tableResultSettingsMap": {},
     "title": ""
    }
   },
   "outputs": [],
   "source": [
    "# plot 3D with py3Dmol\n",
    "# original plus one of the designs (can change)\n",
    "# or save pdbs to UC and then download for local analysis etc\n",
    "\n",
    "import py3Dmol\n",
    "\n",
    "def html_for_proteins(structure0, structure1):\n",
    "    with tempfile.TemporaryDirectory() as tmp:\n",
    "\n",
    "        view = py3Dmol.view(width=800, height=300)\n",
    "\n",
    "        # create temp files of aligned structures\n",
    "        io = bp.PDBIO()\n",
    "        io.set_structure(structure0)\n",
    "        io.save(os.path.join(tmp,\"structure0.pdb\"))\n",
    "\n",
    "        view.addModel(\n",
    "            open(os.path.join(tmp,\"structure0.pdb\"),'r').read(),\n",
    "            'pdb'\n",
    "        )\n",
    "        view.setStyle(\n",
    "            {'model':0},\n",
    "            {'cartoon': {'color': 'red', 'opacity': 0.9}}\n",
    "        )\n",
    "\n",
    "        \n",
    "        io.set_structure(structure1)\n",
    "        io.save(os.path.join(tmp,\"structure1.pdb\"))\n",
    "        view.addModel(open(os.path.join(tmp,\"structure1.pdb\"),'r').read(),'pdb')\n",
    "        view.setStyle(\n",
    "            {'model':1},\n",
    "            {'cartoon': {'color': 'white', 'opacity': 0.9}}\n",
    "        )\n",
    "        \n",
    "        view.zoomTo()\n",
    "        html = view._make_html()\n",
    "    return html"
   ]
  },
  {
   "cell_type": "code",
   "execution_count": 0,
   "metadata": {
    "application/vnd.databricks.v1+cell": {
     "cellMetadata": {
      "byteLimit": 2048000,
      "rowLimit": 10000
     },
     "inputWidgets": {},
     "nuid": "e74c09fc-89fe-4cbd-8a04-7a951b8a7040",
     "showTitle": false,
     "tableResultSettingsMap": {},
     "title": ""
    }
   },
   "outputs": [],
   "source": [
    "with tempfile.TemporaryDirectory() as tmpdir:\n",
    "    with open(os.path.join(tmpdir,\"structure0.pdb\"), 'w') as f:\n",
    "        f.write(designed_pdbs['designed'][0])\n",
    "    with open(os.path.join(tmpdir,\"structure1.pdb\"), 'w') as f:\n",
    "        f.write(designed_pdbs['initial'])\n",
    "\n",
    "    structure0 = PDBParser().get_structure(\"designed\", os.path.join(tmpdir,\"structure0.pdb\"))\n",
    "    structure1 = PDBParser().get_structure(\"esmfold_initial\", os.path.join(tmpdir,\"structure1.pdb\"))\n",
    "    html = html_for_proteins(structure0, structure1)"
   ]
  },
  {
   "cell_type": "code",
   "execution_count": 0,
   "metadata": {
    "application/vnd.databricks.v1+cell": {
     "cellMetadata": {
      "byteLimit": 2048000,
      "rowLimit": 10000
     },
     "inputWidgets": {},
     "nuid": "81e34592-fb73-4102-a456-06fbce835feb",
     "showTitle": false,
     "tableResultSettingsMap": {},
     "title": ""
    }
   },
   "outputs": [],
   "source": [
    "displayHTML(html)"
   ]
  },
  {
   "cell_type": "code",
   "execution_count": 0,
   "metadata": {
    "application/vnd.databricks.v1+cell": {
     "cellMetadata": {
      "byteLimit": 2048000,
      "rowLimit": 10000
     },
     "inputWidgets": {},
     "nuid": "c78ae455-4ffe-40fd-9ead-56946d66b622",
     "showTitle": false,
     "tableResultSettingsMap": {},
     "title": ""
    }
   },
   "outputs": [],
   "source": [
    "html"
   ]
  },
  {
   "cell_type": "code",
   "execution_count": 0,
   "metadata": {
    "application/vnd.databricks.v1+cell": {
     "cellMetadata": {
      "byteLimit": 2048000,
      "rowLimit": 10000
     },
     "inputWidgets": {},
     "nuid": "b5b16893-6363-415b-989b-4dca523c8014",
     "showTitle": false,
     "tableResultSettingsMap": {},
     "title": ""
    }
   },
   "outputs": [],
   "source": []
  },
  {
   "cell_type": "code",
   "execution_count": 0,
   "metadata": {
    "application/vnd.databricks.v1+cell": {
     "cellMetadata": {
      "byteLimit": 2048000,
      "rowLimit": 10000
     },
     "inputWidgets": {},
     "nuid": "c328beb1-5316-4370-92b9-648853a350b4",
     "showTitle": false,
     "tableResultSettingsMap": {},
     "title": ""
    }
   },
   "outputs": [],
   "source": [
    "seq_details = parse_sequence(cov2_rbd)\n",
    "esmfold_initial = hit_esmfold(seq_details['sequence'])"
   ]
  },
  {
   "cell_type": "code",
   "execution_count": 0,
   "metadata": {
    "application/vnd.databricks.v1+cell": {
     "cellMetadata": {
      "byteLimit": 2048000,
      "rowLimit": 10000
     },
     "inputWidgets": {},
     "nuid": "0ba1686d-c8cc-4f31-af16-e1bfc35dff02",
     "showTitle": false,
     "tableResultSettingsMap": {},
     "title": ""
    }
   },
   "outputs": [],
   "source": [
    "esmfold_initial"
   ]
  },
  {
   "cell_type": "code",
   "execution_count": 0,
   "metadata": {
    "application/vnd.databricks.v1+cell": {
     "cellMetadata": {
      "byteLimit": 2048000,
      "rowLimit": 10000
     },
     "inputWidgets": {},
     "nuid": "be02861c-4b39-4c78-8182-08d134318d2f",
     "showTitle": false,
     "tableResultSettingsMap": {},
     "title": ""
    }
   },
   "outputs": [],
   "source": [
    "# take the output and modify so that bewteen start and end idx residues are replaced with Glycine and only CA kept\n",
    "with tempfile.NamedTemporaryFile(suffix='.pdb') as f:\n",
    "    with open(f.name, 'w') as fw:\n",
    "        fw.write(esmfold_initial)\n",
    "    structure = PDBParser().get_structure(\"esmfold\", f.name)\n",
    "\n",
    "modified_pdb_text = extract_chain_reindex(\n",
    "    structure, \n",
    "    chain_id='A'\n",
    ")"
   ]
  },
  {
   "cell_type": "code",
   "execution_count": 0,
   "metadata": {
    "application/vnd.databricks.v1+cell": {
     "cellMetadata": {
      "byteLimit": 2048000,
      "rowLimit": 10000
     },
     "inputWidgets": {},
     "nuid": "528d2da8-3ee5-48ed-893f-aa1a1a6d947a",
     "showTitle": false,
     "tableResultSettingsMap": {},
     "title": ""
    }
   },
   "outputs": [],
   "source": [
    "# test with single case\n",
    "designed_pdb = hit_rfdiffusion({\n",
    "    'pdb': modified_pdb_text,\n",
    "    'start_idx': seq_details['start_idx'],\n",
    "    'end_idx': seq_details['end_idx'],\n",
    "})"
   ]
  },
  {
   "cell_type": "code",
   "execution_count": 0,
   "metadata": {
    "application/vnd.databricks.v1+cell": {
     "cellMetadata": {
      "byteLimit": 2048000,
      "rowLimit": 10000
     },
     "inputWidgets": {},
     "nuid": "9760bf09-a563-4007-9dce-3e6851767bd9",
     "showTitle": false,
     "tableResultSettingsMap": {},
     "title": ""
    }
   },
   "outputs": [],
   "source": [
    "# now pass that modified structure to rfdiffusion as string 3 times and collect all\n",
    "designed_pdb_strs = []\n",
    "for i in range(3):\n",
    "    designed_pdb = hit_rfdiffusion({\n",
    "        'pdb': modified_pdb_text,\n",
    "        'start_idx': seq_details['start_idx'],\n",
    "        'end_idx': seq_details['end_idx'],\n",
    "    })\n",
    "    designed_pdb_strs.append(designed_pdb)\n"
   ]
  },
  {
   "cell_type": "code",
   "execution_count": 0,
   "metadata": {
    "application/vnd.databricks.v1+cell": {
     "cellMetadata": {
      "byteLimit": 2048000,
      "rowLimit": 10000
     },
     "inputWidgets": {},
     "nuid": "1542304c-5977-4f0f-9228-17529da738c3",
     "showTitle": false,
     "tableResultSettingsMap": {},
     "title": ""
    }
   },
   "outputs": [],
   "source": [
    "designed_pdb_strs"
   ]
  },
  {
   "cell_type": "code",
   "execution_count": 0,
   "metadata": {
    "application/vnd.databricks.v1+cell": {
     "cellMetadata": {
      "byteLimit": 2048000,
      "rowLimit": 10000
     },
     "inputWidgets": {},
     "nuid": "511aa575-2c19-4b3a-8535-0d44018361c3",
     "showTitle": false,
     "tableResultSettingsMap": {},
     "title": ""
    }
   },
   "outputs": [],
   "source": [
    "all_seqs = []\n",
    "for pdb_ in designed_pdb_strs:\n",
    "    all_seqs.extend(hit_proteinmpnn(pdb_))"
   ]
  },
  {
   "cell_type": "code",
   "execution_count": 0,
   "metadata": {
    "application/vnd.databricks.v1+cell": {
     "cellMetadata": {
      "byteLimit": 2048000,
      "rowLimit": 10000
     },
     "inputWidgets": {},
     "nuid": "bf1d8508-e599-47e5-939c-3310df667a5e",
     "showTitle": false,
     "tableResultSettingsMap": {},
     "title": ""
    }
   },
   "outputs": [],
   "source": [
    "# make async ?????\n",
    "all_pdbs = []\n",
    "for s in all_seqs:\n",
    "    all_pdbs.append(hit_esmfold(s))"
   ]
  },
  {
   "cell_type": "code",
   "execution_count": 0,
   "metadata": {
    "application/vnd.databricks.v1+cell": {
     "cellMetadata": {
      "byteLimit": 2048000,
      "rowLimit": 10000
     },
     "inputWidgets": {},
     "nuid": "d191e3b7-1ddc-4367-aa52-e2cea3eee64c",
     "showTitle": false,
     "tableResultSettingsMap": {},
     "title": ""
    }
   },
   "outputs": [],
   "source": [
    "len(all_pdbs)"
   ]
  },
  {
   "cell_type": "code",
   "execution_count": 0,
   "metadata": {
    "application/vnd.databricks.v1+cell": {
     "cellMetadata": {
      "byteLimit": 2048000,
      "rowLimit": 10000
     },
     "inputWidgets": {},
     "nuid": "4cf979dc-0a9e-4abb-a8d9-9e24b2c8f0c1",
     "showTitle": false,
     "tableResultSettingsMap": {},
     "title": ""
    }
   },
   "outputs": [],
   "source": [
    "all_pdbs[0]"
   ]
  },
  {
   "cell_type": "code",
   "execution_count": 0,
   "metadata": {
    "application/vnd.databricks.v1+cell": {
     "cellMetadata": {
      "byteLimit": 2048000,
      "rowLimit": 10000
     },
     "inputWidgets": {},
     "nuid": "df41c8a3-4003-4e8c-94fb-91a9f20a2039",
     "showTitle": false,
     "tableResultSettingsMap": {},
     "title": ""
    }
   },
   "outputs": [],
   "source": []
  }
 ],
 "metadata": {
  "application/vnd.databricks.v1+notebook": {
   "computePreferences": null,
   "dashboards": [],
   "environmentMetadata": {
    "base_environment": "",
    "environment_version": "2"
   },
   "inputWidgetPreferences": null,
   "language": "python",
   "notebookMetadata": {
    "pythonIndentUnit": 4
   },
   "notebookName": "inpaint_infer_fold",
   "widgets": {}
  },
  "language_info": {
   "name": "python"
  }
 },
 "nbformat": 4,
 "nbformat_minor": 0
}
