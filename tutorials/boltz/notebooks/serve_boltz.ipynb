{
 "cells": [
  {
   "cell_type": "code",
   "execution_count": 0,
   "metadata": {
    "application/vnd.databricks.v1+cell": {
     "cellMetadata": {},
     "inputWidgets": {},
     "nuid": "07e9a949-0764-483a-9ac9-4de8208ea8be",
     "showTitle": false,
     "tableResultSettingsMap": {},
     "title": ""
    }
   },
   "outputs": [],
   "source": [
    "from databricks.sdk import WorkspaceClient\n",
    "from databricks.sdk.service.serving import (\n",
    "    EndpointCoreConfigInput, \n",
    "    ServedEntityInput,\n",
    "    ServedModelInputWorkloadSize,\n",
    "    ServedModelInputWorkloadType,\n",
    "    AutoCaptureConfigInput\n",
    ")\n",
    "from databricks.sdk import errors\n",
    "\n",
    "w = WorkspaceClient()\n",
    "\n",
    "CATALOG='protein_folding'\n",
    "SCHEMA='boltz'\n",
    "MODEL_NAME = 'boltz'\n",
    "endpoint_name = 'boltz'\n",
    "\n",
    "model_name = f\"{CATALOG}.{SCHEMA}.{MODEL_NAME}\"\n",
    "versions = w.model_versions.list(model_name)\n",
    "latest_version = max(versions, key=lambda v: v.version).version\n",
    "\n",
    "print(\"version being served = \", latest_version)\n",
    "\n",
    "\n",
    "served_entities=[\n",
    "    ServedEntityInput(\n",
    "        entity_name=model_name,\n",
    "        entity_version=latest_version,\n",
    "        name=MODEL_NAME,\n",
    "\n",
    "        workload_type=\"GPU_SMALL\",\n",
    "        workload_size=\"Small\",\n",
    "        scale_to_zero_enabled=True\n",
    "    )\n",
    "]\n",
    "auto_capture_config = AutoCaptureConfigInput(\n",
    "    catalog_name = CATALOG,\n",
    "    schema_name=SCHEMA,\n",
    "    table_name_prefix=f'{MODEL_NAME}_serving',\n",
    "    enabled=True\n",
    ")\n",
    "\n",
    "try:\n",
    "    # try to update the endpoint if already have one\n",
    "    existing_endpoint = w.serving_endpoints.get(endpoint_name)\n",
    "    # may take some time to actually do the update\n",
    "    status = w.serving_endpoints.update_config(\n",
    "        name=endpoint_name,\n",
    "        served_entities=served_entities,\n",
    "        auto_capture_config=auto_capture_config,\n",
    "    )\n",
    "except errors.platform.ResourceDoesNotExist as e:\n",
    "    # if no endpoint yet, make it, wait for it to spin up, and put model on endpoint\n",
    "    status = w.serving_endpoints.create(\n",
    "        name=endpoint_name,\n",
    "        config=EndpointCoreConfigInput(\n",
    "            name=endpoint_name,\n",
    "            served_entities=served_entities,\n",
    "            auto_capture_config = auto_capture_config,\n",
    "        )\n",
    "    )\n",
    "\n",
    "print(status)"
   ]
  }
 ],
 "metadata": {
  "application/vnd.databricks.v1+notebook": {
   "computePreferences": null,
   "dashboards": [],
   "environmentMetadata": {
    "base_environment": "",
    "environment_version": "2"
   },
   "inputWidgetPreferences": null,
   "language": "python",
   "notebookMetadata": {
    "pythonIndentUnit": 4
   },
   "notebookName": "serve_boltz",
   "widgets": {}
  },
  "language_info": {
   "name": "python"
  }
 },
 "nbformat": 4,
 "nbformat_minor": 0
}
