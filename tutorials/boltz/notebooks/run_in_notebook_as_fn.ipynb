{
 "cells": [
  {
   "cell_type": "code",
   "execution_count": 0,
   "metadata": {
    "application/vnd.databricks.v1+cell": {
     "cellMetadata": {
      "byteLimit": 2048000,
      "rowLimit": 10000
     },
     "inputWidgets": {},
     "nuid": "c33c80a8-99bd-4ab8-9c15-b539207ff1bb",
     "showTitle": false,
     "tableResultSettingsMap": {},
     "title": ""
    }
   },
   "outputs": [],
   "source": [
    "%pip install ../dbboltz[gpu]\n",
    "%pip install py3Dmol\n",
    "dbutils.library.restartPython()"
   ]
  },
  {
   "cell_type": "code",
   "execution_count": 0,
   "metadata": {
    "application/vnd.databricks.v1+cell": {
     "cellMetadata": {
      "byteLimit": 2048000,
      "rowLimit": 10000
     },
     "inputWidgets": {},
     "nuid": "ef0193cf-81a9-41e1-863e-1632a31031a2",
     "showTitle": false,
     "tableResultSettingsMap": {},
     "title": ""
    }
   },
   "outputs": [],
   "source": [
    "import mlflow\n",
    "mlflow.autolog(disable=True)\n",
    "from dbboltz.boltz import run_boltz\n",
    "import yaml"
   ]
  },
  {
   "cell_type": "code",
   "execution_count": 0,
   "metadata": {
    "application/vnd.databricks.v1+cell": {
     "cellMetadata": {
      "byteLimit": 2048000,
      "rowLimit": 10000
     },
     "inputWidgets": {},
     "nuid": "02bcc1a5-b931-4b58-a1eb-7c7258b6ea6b",
     "showTitle": false,
     "tableResultSettingsMap": {},
     "title": ""
    }
   },
   "outputs": [],
   "source": [
    "%sh\n",
    "\n",
    "if [ ! -d \"/miniconda3\" ]; then\n",
    "  mkdir -p /miniconda3\n",
    "\n",
    "  wget https://repo.anaconda.com/miniconda/Miniconda3-latest-Linux-x86_64.sh -O /miniconda3/miniconda.sh\n",
    "  bash /miniconda3/miniconda.sh -b -u -p /miniconda3\n",
    "  rm -rf /miniconda3/miniconda.sh\n",
    "fi\n",
    "\n",
    "source /miniconda3/bin/activate\n",
    "conda config --remove channels defaults\n",
    "\n",
    "conda create -n jackhmmer_env python=3.8 --yes\n",
    "conda activate jackhmmer_env\n",
    "conda install -y bioconda::hmmer"
   ]
  },
  {
   "cell_type": "code",
   "execution_count": 0,
   "metadata": {
    "application/vnd.databricks.v1+cell": {
     "cellMetadata": {
      "byteLimit": 2048000,
      "rowLimit": 10000
     },
     "inputWidgets": {},
     "nuid": "00bbb4e9-516a-4574-8fab-83d80b028b31",
     "showTitle": false,
     "tableResultSettingsMap": {},
     "title": ""
    }
   },
   "outputs": [],
   "source": [
    "%sh\n",
    "mkdir -p /local_disk0/cache/\n",
    "cp -r /Volumes/peter_hawkins/testing/boltz /local_disk0/cache/"
   ]
  },
  {
   "cell_type": "code",
   "execution_count": 0,
   "metadata": {
    "application/vnd.databricks.v1+cell": {
     "cellMetadata": {
      "byteLimit": 2048000,
      "rowLimit": 10000
     },
     "inputWidgets": {},
     "nuid": "ffabd2ed-1e75-414b-9af9-99497bf4d5ef",
     "showTitle": false,
     "tableResultSettingsMap": {},
     "title": ""
    }
   },
   "outputs": [],
   "source": [
    "def get_model_config():\n",
    "    model_config = {}\n",
    "    model_config['jackhmmer_binary_path'] = \"/miniconda3/envs/jackhmmer_env/bin/jackhmmer\"\n",
    "    model_config['compute_type'] = 'gpu'\n",
    "    return model_config\n",
    "\n",
    "model_config = get_model_config()"
   ]
  },
  {
   "cell_type": "markdown",
   "metadata": {
    "application/vnd.databricks.v1+cell": {
     "cellMetadata": {},
     "inputWidgets": {},
     "nuid": "45e1739a-f996-4a88-91b9-edc49654c832",
     "showTitle": false,
     "tableResultSettingsMap": {},
     "title": ""
    }
   },
   "source": [
    "## Protein/DNA example"
   ]
  },
  {
   "cell_type": "code",
   "execution_count": 0,
   "metadata": {
    "application/vnd.databricks.v1+cell": {
     "cellMetadata": {
      "byteLimit": 2048000,
      "rowLimit": 10000
     },
     "inputWidgets": {},
     "nuid": "d2393b6a-9fd0-4c0c-bcf0-690cbcefc52b",
     "showTitle": false,
     "tableResultSettingsMap": {},
     "title": ""
    }
   },
   "outputs": [],
   "source": [
    "params = {\n",
    "    'msa': 'no_msa',\n",
    "    'msa_depth': 20,\n",
    "    'diffusion_samples': 1,\n",
    "    'recycling_steps': 3,\n",
    "    'sampling_steps': 200,\n",
    "    'cache':'/local_disk0/cache/boltz'\n",
    "}"
   ]
  },
  {
   "cell_type": "code",
   "execution_count": 0,
   "metadata": {
    "application/vnd.databricks.v1+cell": {
     "cellMetadata": {
      "byteLimit": 2048000,
      "rowLimit": 10000
     },
     "inputWidgets": {},
     "nuid": "05f6f91f-ab75-41a3-9786-3e07bfd12b82",
     "showTitle": false,
     "tableResultSettingsMap": {},
     "title": ""
    }
   },
   "outputs": [],
   "source": [
    "# PDB 2Y9H\n",
    "inputs = {\n",
    "    'protein':[\n",
    "        ( ('A'),\"GTGAMWLTKLVLNPASRAARRDLANPYEMHRTLSKAVSRALEEGRERLLWRLEPARGLEPPVVLVQTLTEPDWSVLDEGYAQVFPPKPFHPALKPGQRLRFRLRANPAKRLAATGKRVALKTPAEKVAWLERRLEEGGFRLLEGERGPWVQILQDTFLEVRRKKDGEEAGKLLQVQAVLFEGRLEVVDPERALATLRRGVGPGKALGLGLLSVAP\"),\n",
    "    ],\n",
    "    'rna': [\n",
    "        ( ('B'), \"UCCCCACGCGUGUGGGGAU\")\n",
    "    ]\n",
    "}"
   ]
  },
  {
   "cell_type": "code",
   "execution_count": 0,
   "metadata": {
    "application/vnd.databricks.v1+cell": {
     "cellMetadata": {
      "byteLimit": 2048000,
      "rowLimit": 10000
     },
     "inputWidgets": {},
     "nuid": "967dc717-6853-47b1-a4f1-6760635e33f7",
     "showTitle": false,
     "tableResultSettingsMap": {},
     "title": ""
    }
   },
   "outputs": [],
   "source": [
    "results = run_boltz(\n",
    "    inputs,\n",
    "    config={**model_config, **params},\n",
    ")"
   ]
  },
  {
   "cell_type": "code",
   "execution_count": 0,
   "metadata": {
    "application/vnd.databricks.v1+cell": {
     "cellMetadata": {
      "byteLimit": 2048000,
      "rowLimit": 10000
     },
     "inputWidgets": {},
     "nuid": "b289b59a-6f33-426e-87da-e90faec0494a",
     "showTitle": false,
     "tableResultSettingsMap": {},
     "title": ""
    }
   },
   "outputs": [],
   "source": [
    "import py3Dmol\n",
    "\n",
    "view = py3Dmol.view(width=800, height=300)\n",
    "\n",
    "view.addModel(\n",
    "    results[0]['pdb'],\n",
    "    'pdb'\n",
    ")\n",
    "view.setStyle({'chain': 'A'}, {'cartoon': {'color': 'blue'}})\n",
    "view.setStyle({'chain': 'B'}, {'cartoon': {'color': 'red'}})\n",
    "\n",
    "view.zoomTo()\n",
    "html = view._make_html()\n",
    "displayHTML(html)"
   ]
  },
  {
   "cell_type": "markdown",
   "metadata": {
    "application/vnd.databricks.v1+cell": {
     "cellMetadata": {},
     "inputWidgets": {},
     "nuid": "11949d46-58cb-42f1-b9f6-a5d7c28306ef",
     "showTitle": false,
     "tableResultSettingsMap": {},
     "title": ""
    }
   },
   "source": [
    "#### Now use mmseqs2 server for msa instead of no msa"
   ]
  },
  {
   "cell_type": "code",
   "execution_count": 0,
   "metadata": {
    "application/vnd.databricks.v1+cell": {
     "cellMetadata": {
      "byteLimit": 2048000,
      "rowLimit": 10000
     },
     "inputWidgets": {},
     "nuid": "deb16c38-239f-4494-bbf7-9a17af64906c",
     "showTitle": false,
     "tableResultSettingsMap": {},
     "title": ""
    }
   },
   "outputs": [],
   "source": [
    "params.update({\n",
    "    'msa': 'mmseqs',\n",
    "    'use_msa_server':True\n",
    "})\n",
    "\n",
    "results = run_boltz(\n",
    "    inputs,\n",
    "    config={**model_config, **params},\n",
    ")"
   ]
  },
  {
   "cell_type": "code",
   "execution_count": 0,
   "metadata": {
    "application/vnd.databricks.v1+cell": {
     "cellMetadata": {
      "byteLimit": 2048000,
      "rowLimit": 10000
     },
     "inputWidgets": {},
     "nuid": "8a03b409-48a7-4183-87be-d14e6983109c",
     "showTitle": false,
     "tableResultSettingsMap": {},
     "title": ""
    }
   },
   "outputs": [],
   "source": [
    "import py3Dmol\n",
    "\n",
    "view = py3Dmol.view(width=800, height=300)\n",
    "\n",
    "view.addModel(\n",
    "    results[0]['pdb'],\n",
    "    'pdb'\n",
    ")\n",
    "view.setStyle({'chain': 'A'}, {'cartoon': {'color': 'blue'}})\n",
    "view.setStyle({'chain': 'B'}, {'cartoon': {'color': 'red'}})\n",
    "\n",
    "view.zoomTo()\n",
    "html = view._make_html()\n",
    "displayHTML(html)"
   ]
  },
  {
   "cell_type": "markdown",
   "metadata": {
    "application/vnd.databricks.v1+cell": {
     "cellMetadata": {},
     "inputWidgets": {},
     "nuid": "01eb7a79-3ec4-4afc-8c09-562b7df3a3e8",
     "showTitle": false,
     "tableResultSettingsMap": {},
     "title": ""
    }
   },
   "source": [
    "## Now use Jackhmmer on uniref50 (could choose any fasta)\n",
    " - This is now not hitting any pulic server, but does get an MSA\n",
    " - Effective at improving accuracy in my testing\n",
    " - For large workloads strongly suggest setting up a mmseqs2 server on your own compute\n",
    "    - Since the mmseq2 server requires ~1TB RAM, only spin up the server for the duration of large runs\n",
    "    - fall back to no_msa or jckhmmer for ad-hoc and smaller workloads "
   ]
  },
  {
   "cell_type": "code",
   "execution_count": 0,
   "metadata": {
    "application/vnd.databricks.v1+cell": {
     "cellMetadata": {
      "byteLimit": 2048000,
      "rowLimit": 10000
     },
     "inputWidgets": {},
     "nuid": "05bbe595-83dc-49ea-b05d-4ecf59280cd2",
     "showTitle": false,
     "tableResultSettingsMap": {},
     "title": ""
    }
   },
   "outputs": [],
   "source": [
    "params.update({\n",
    "    'msa': 'jh',\n",
    "    'index_name':'/Volumes/protein_folding/boltz/datasets/uniref50/uniref50.fasta'\n",
    "})\n",
    "\n",
    "results = run_boltz(\n",
    "    inputs,\n",
    "    config={**model_config, **params},\n",
    ")"
   ]
  },
  {
   "cell_type": "code",
   "execution_count": 0,
   "metadata": {
    "application/vnd.databricks.v1+cell": {
     "cellMetadata": {
      "byteLimit": 2048000,
      "rowLimit": 10000
     },
     "inputWidgets": {},
     "nuid": "74ca5e51-84b2-45ab-b067-898bbc88dd6a",
     "showTitle": false,
     "tableResultSettingsMap": {},
     "title": ""
    }
   },
   "outputs": [],
   "source": [
    "import py3Dmol\n",
    "\n",
    "view = py3Dmol.view(width=800, height=300)\n",
    "\n",
    "view.addModel(\n",
    "    results[0]['pdb'],\n",
    "    'pdb'\n",
    ")\n",
    "view.setStyle({'chain': 'A'}, {'cartoon': {'color': 'blue'}})\n",
    "view.setStyle({'chain': 'B'}, {'cartoon': {'color': 'red'}})\n",
    "\n",
    "view.zoomTo()\n",
    "html = view._make_html()\n",
    "displayHTML(html)"
   ]
  },
  {
   "cell_type": "markdown",
   "metadata": {
    "application/vnd.databricks.v1+cell": {
     "cellMetadata": {},
     "inputWidgets": {},
     "nuid": "b7a7f9c2-83a8-4cc4-ae2b-44a2696cb868",
     "showTitle": false,
     "tableResultSettingsMap": {},
     "title": ""
    }
   },
   "source": [
    "## Note that using MSA (mmseqs or even UR50) improves performance"
   ]
  },
  {
   "cell_type": "code",
   "execution_count": 0,
   "metadata": {
    "application/vnd.databricks.v1+cell": {
     "cellMetadata": {},
     "inputWidgets": {},
     "nuid": "2bf6b3ca-f937-4e7a-96f1-de2a9bb88bbe",
     "showTitle": false,
     "tableResultSettingsMap": {},
     "title": ""
    }
   },
   "outputs": [],
   "source": []
  }
 ],
 "metadata": {
  "application/vnd.databricks.v1+notebook": {
   "computePreferences": null,
   "dashboards": [],
   "environmentMetadata": {
    "base_environment": "",
    "environment_version": "2"
   },
   "inputWidgetPreferences": null,
   "language": "python",
   "notebookMetadata": {
    "mostRecentlyExecutedCommandWithImplicitDF": {
     "commandId": 3373018148967519,
     "dataframes": [
      "_sqldf"
     ]
    },
    "pythonIndentUnit": 4
   },
   "notebookName": "run_in_notebook_as_fn",
   "widgets": {}
  },
  "language_info": {
   "name": "python"
  }
 },
 "nbformat": 4,
 "nbformat_minor": 0
}
