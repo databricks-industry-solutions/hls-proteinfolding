{
 "cells": [
  {
   "cell_type": "markdown",
   "metadata": {
    "application/vnd.databricks.v1+cell": {
     "cellMetadata": {},
     "inputWidgets": {},
     "nuid": "7e11d062-c83e-49f0-ab5f-6179a4450db9",
     "showTitle": false,
     "tableResultSettingsMap": {},
     "title": ""
    }
   },
   "source": [
    "## Download model weights and JackHMMer binary and place in Unity Catalog Volume"
   ]
  },
  {
   "cell_type": "code",
   "execution_count": 0,
   "metadata": {
    "application/vnd.databricks.v1+cell": {
     "cellMetadata": {
      "byteLimit": 2048000,
      "rowLimit": 10000
     },
     "inputWidgets": {},
     "nuid": "434a1f89-7ec8-4fbf-a9ab-b8fb5838f145",
     "showTitle": false,
     "tableResultSettingsMap": {},
     "title": ""
    }
   },
   "outputs": [],
   "source": [
    "CATALOG = 'protein_folding'\n",
    "SCHEMA = 'boltz'\n",
    "WEIGHTS_VOLUME = 'weights'\n",
    "BINARIES_VOLUME = 'binaries' \n",
    "\n",
    "import os\n",
    "os.environ['CATALOG'] = CATALOG\n",
    "os.environ['SCHEMA'] = SCHEMA\n",
    "os.environ['WEIGHTS_VOLUME'] = WEIGHTS_VOLUME\n",
    "os.environ['BINARIES_VOLUME'] = BINARIES_VOLUME\n",
    "\n",
    "spark.sql(f\"CREATE VOLUME IF NOT EXISTS {CATALOG}.{SCHEMA}.{WEIGHTS_VOLUME}\")\n",
    "spark.sql(f\"CREATE VOLUME IF NOT EXISTS {CATALOG}.{SCHEMA}.{BINARIES_VOLUME}\")"
   ]
  },
  {
   "cell_type": "markdown",
   "metadata": {
    "application/vnd.databricks.v1+cell": {
     "cellMetadata": {},
     "inputWidgets": {},
     "nuid": "7782cfdc-86d1-4291-b419-8e5722ab01ac",
     "showTitle": false,
     "tableResultSettingsMap": {},
     "title": ""
    }
   },
   "source": [
    "### Download Weights place in Volumes"
   ]
  },
  {
   "cell_type": "code",
   "execution_count": 0,
   "metadata": {
    "application/vnd.databricks.v1+cell": {
     "cellMetadata": {
      "byteLimit": 2048000,
      "rowLimit": 10000
     },
     "inputWidgets": {},
     "nuid": "e11a65e2-4ba0-4129-9b55-2b27090941ed",
     "showTitle": false,
     "tableResultSettingsMap": {},
     "title": ""
    }
   },
   "outputs": [],
   "source": [
    "import urllib\n",
    "from pathlib import Path\n",
    "CCD_URL = \"https://huggingface.co/boltz-community/boltz-1/resolve/main/ccd.pkl\"\n",
    "MODEL_URL = (\n",
    "    \"https://huggingface.co/boltz-community/boltz-1/resolve/main/boltz1_conf.ckpt\"\n",
    ")\n",
    "\n",
    "def download(cache: Path) -> None:\n",
    "    \"\"\"Download all the required data.\n",
    "\n",
    "    Parameters\n",
    "    ----------\n",
    "    cache : Path\n",
    "        The cache directory.\n",
    "\n",
    "    \"\"\"\n",
    "    # Download CCD\n",
    "    ccd = cache / \"ccd.pkl\"\n",
    "    if not ccd.exists():\n",
    "        # click.echo(\n",
    "        #     f\"Downloading the CCD dictionary to {ccd}. You may \"\n",
    "        #     \"change the cache directory with the --cache flag.\"\n",
    "        # )\n",
    "        urllib.request.urlretrieve(CCD_URL, str(ccd))  # noqa: S310\n",
    "\n",
    "    # Download model\n",
    "    model = cache / \"boltz1_conf.ckpt\"\n",
    "    if not model.exists():\n",
    "        # click.echo(\n",
    "        #     f\"Downloading the model weights to {model}. You may \"\n",
    "        #     \"change the cache directory with the --cache flag.\"\n",
    "        # )\n",
    "        urllib.request.urlretrieve(MODEL_URL, str(model)) "
   ]
  },
  {
   "cell_type": "code",
   "execution_count": 0,
   "metadata": {
    "application/vnd.databricks.v1+cell": {
     "cellMetadata": {
      "byteLimit": 2048000,
      "rowLimit": 10000
     },
     "inputWidgets": {},
     "nuid": "cddd9810-886d-471a-bfff-69c55a7961e1",
     "showTitle": false,
     "tableResultSettingsMap": {},
     "title": ""
    }
   },
   "outputs": [],
   "source": [
    "CACHE_DIR = f'/Volumes/{CATALOG}/{SCHEMA}/{WEIGHTS_VOLUME}'\n",
    "download(Path(CACHE_DIR))"
   ]
  },
  {
   "cell_type": "markdown",
   "metadata": {
    "application/vnd.databricks.v1+cell": {
     "cellMetadata": {},
     "inputWidgets": {},
     "nuid": "7929596c-16c1-4e98-99be-ed883e5f7daf",
     "showTitle": false,
     "tableResultSettingsMap": {},
     "title": ""
    }
   },
   "source": [
    "### Download jackhmmer binary and place in Volumes"
   ]
  },
  {
   "cell_type": "code",
   "execution_count": 0,
   "metadata": {
    "application/vnd.databricks.v1+cell": {
     "cellMetadata": {
      "byteLimit": 2048000,
      "rowLimit": 10000
     },
     "inputWidgets": {},
     "nuid": "bbb8d49f-0c64-404e-b33b-dbdb532d2eb4",
     "showTitle": false,
     "tableResultSettingsMap": {},
     "title": ""
    }
   },
   "outputs": [],
   "source": [
    "%sh\n",
    "\n",
    "if [ ! -d \"/miniconda3\" ]; then\n",
    "  mkdir -p /miniconda3\n",
    "\n",
    "  wget https://repo.anaconda.com/miniconda/Miniconda3-latest-Linux-x86_64.sh -O /miniconda3/miniconda.sh\n",
    "  bash /miniconda3/miniconda.sh -b -u -p /miniconda3\n",
    "  rm -rf /miniconda3/miniconda.sh\n",
    "fi\n",
    "\n",
    "source /miniconda3/bin/activate\n",
    "conda config --remove channels defaults\n",
    "\n",
    "conda create -n jackhmmer_env python=3.8 --yes\n",
    "conda activate jackhmmer_env\n",
    "conda install -y bioconda::hmmer\n",
    "\n",
    "cp /miniconda3/envs/jackhmmer_env/bin/jackhmmer /Volumes/${CATALOG}/${SCHEMA}/${BINARIES_VOLUME}"
   ]
  },
  {
   "cell_type": "code",
   "execution_count": 0,
   "metadata": {
    "application/vnd.databricks.v1+cell": {
     "cellMetadata": {},
     "inputWidgets": {},
     "nuid": "a0458047-8b1f-4c41-b7ea-7a7b60ef1cb8",
     "showTitle": false,
     "tableResultSettingsMap": {},
     "title": ""
    }
   },
   "outputs": [],
   "source": []
  }
 ],
 "metadata": {
  "application/vnd.databricks.v1+notebook": {
   "computePreferences": null,
   "dashboards": [],
   "environmentMetadata": {
    "base_environment": "",
    "environment_version": "2"
   },
   "inputWidgetPreferences": null,
   "language": "python",
   "notebookMetadata": {
    "mostRecentlyExecutedCommandWithImplicitDF": {
     "commandId": 3448788214704650,
     "dataframes": [
      "_sqldf"
     ]
    },
    "pythonIndentUnit": 2
   },
   "notebookName": "prep_model_weights",
   "widgets": {}
  },
  "language_info": {
   "name": "python"
  }
 },
 "nbformat": 4,
 "nbformat_minor": 0
}
