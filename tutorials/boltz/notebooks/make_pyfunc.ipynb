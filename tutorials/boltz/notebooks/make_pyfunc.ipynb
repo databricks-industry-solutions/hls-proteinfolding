{
 "cells": [
  {
   "cell_type": "markdown",
   "metadata": {
    "application/vnd.databricks.v1+cell": {
     "cellMetadata": {},
     "inputWidgets": {},
     "nuid": "dd4883a4-9be5-4df6-a20d-6df673464aca",
     "showTitle": false,
     "tableResultSettingsMap": {},
     "title": ""
    }
   },
   "source": [
    "## Log and register Boltz-1 model on Unity Catalog\n",
    "\n",
    "- note that with dbboltz version we suport JackHMMer option for MSA when running in notebook (but for serving the MSA with JackHMMer will take too long)"
   ]
  },
  {
   "cell_type": "code",
   "execution_count": 0,
   "metadata": {
    "application/vnd.databricks.v1+cell": {
     "cellMetadata": {
      "byteLimit": 2048000,
      "rowLimit": 10000
     },
     "inputWidgets": {},
     "nuid": "f256f9ad-4deb-4ffb-88e3-f9e0a6dd0f13",
     "showTitle": false,
     "tableResultSettingsMap": {},
     "title": ""
    }
   },
   "outputs": [],
   "source": [
    "%pip install ../dbboltz[gpu]\n",
    "%pip install py3Dmol\n",
    "dbutils.library.restartPython()"
   ]
  },
  {
   "cell_type": "code",
   "execution_count": 0,
   "metadata": {
    "application/vnd.databricks.v1+cell": {
     "cellMetadata": {
      "byteLimit": 2048000,
      "rowLimit": 10000
     },
     "inputWidgets": {},
     "nuid": "178705f7-d05b-4b48-90f1-dcb36d3e596e",
     "showTitle": false,
     "tableResultSettingsMap": {},
     "title": ""
    }
   },
   "outputs": [],
   "source": [
    "import mlflow\n",
    "mlflow.autolog(disable=True)\n",
    "from dbboltz.boltz import run_boltz, Boltz\n",
    "import yaml"
   ]
  },
  {
   "cell_type": "code",
   "execution_count": 0,
   "metadata": {
    "application/vnd.databricks.v1+cell": {
     "cellMetadata": {
      "byteLimit": 2048000,
      "rowLimit": 10000
     },
     "inputWidgets": {},
     "nuid": "a9ad48f6-3321-4204-be45-fdfbf66e9ff3",
     "showTitle": false,
     "tableResultSettingsMap": {},
     "title": ""
    }
   },
   "outputs": [],
   "source": [
    "def get_model_config():\n",
    "    model_config = {}\n",
    "    model_config['jackhmmer_binary_path'] = \"/miniconda3/envs/jackhmmer_env/bin/jackhmmer\"\n",
    "    model_config['compute_type'] = 'gpu'\n",
    "    return model_config\n",
    "\n",
    "model_config = get_model_config()"
   ]
  },
  {
   "cell_type": "markdown",
   "metadata": {
    "application/vnd.databricks.v1+cell": {
     "cellMetadata": {},
     "inputWidgets": {},
     "nuid": "5ef83160-c06e-41fc-a64a-89025ddd6316",
     "showTitle": false,
     "tableResultSettingsMap": {},
     "title": ""
    }
   },
   "source": [
    "### Initialize the model"
   ]
  },
  {
   "cell_type": "code",
   "execution_count": 0,
   "metadata": {
    "application/vnd.databricks.v1+cell": {
     "cellMetadata": {
      "byteLimit": 2048000,
      "rowLimit": 10000
     },
     "inputWidgets": {},
     "nuid": "b91069fe-f548-4980-9c77-6d8b74ac3c19",
     "showTitle": false,
     "tableResultSettingsMap": {},
     "title": ""
    }
   },
   "outputs": [],
   "source": [
    "model = Boltz()\n",
    "context = mlflow.pyfunc.PythonModelContext(\n",
    "    artifacts = {\n",
    "        'CACHE_DIR': '/Volumes/protein_folding/boltz/weights'\n",
    "    },\n",
    "    model_config = model_config\n",
    ")\n",
    "model.load_context(context)"
   ]
  },
  {
   "cell_type": "markdown",
   "metadata": {
    "application/vnd.databricks.v1+cell": {
     "cellMetadata": {},
     "inputWidgets": {},
     "nuid": "34c5587b-f1b4-425a-8e43-371a0fd2301f",
     "showTitle": false,
     "tableResultSettingsMap": {},
     "title": ""
    }
   },
   "source": [
    "### Helper function to map between dictionary type input and string input for serving"
   ]
  },
  {
   "cell_type": "code",
   "execution_count": 0,
   "metadata": {
    "application/vnd.databricks.v1+cell": {
     "cellMetadata": {
      "byteLimit": 2048000,
      "rowLimit": 10000
     },
     "inputWidgets": {},
     "nuid": "2ac99af1-b8ab-474e-a96d-c71c6fcdcb7d",
     "showTitle": false,
     "tableResultSettingsMap": {},
     "title": ""
    }
   },
   "outputs": [],
   "source": [
    "def convert_input_to_serving_input(inputs):\n",
    "    out_dict = dict()\n",
    "    for k, v in inputs.items():\n",
    "        for in_seqs in v:\n",
    "            chain_ids = ','.join(in_seqs[0])\n",
    "            sequence = in_seqs[1]\n",
    "            out_dict[k+'_'+chain_ids] = sequence\n",
    "    out_str = \"\"\n",
    "    for k,v in out_dict.items():\n",
    "        out_str += k+':'+v+';'\n",
    "    out_str = out_str.rstrip(';')\n",
    "    return out_str"
   ]
  },
  {
   "cell_type": "markdown",
   "metadata": {
    "application/vnd.databricks.v1+cell": {
     "cellMetadata": {},
     "inputWidgets": {},
     "nuid": "dba8c031-2705-48b0-b4bb-5cc655df5f2b",
     "showTitle": false,
     "tableResultSettingsMap": {},
     "title": ""
    }
   },
   "source": [
    "### set an example input use case"
   ]
  },
  {
   "cell_type": "code",
   "execution_count": 0,
   "metadata": {
    "application/vnd.databricks.v1+cell": {
     "cellMetadata": {
      "byteLimit": 2048000,
      "rowLimit": 10000
     },
     "inputWidgets": {},
     "nuid": "0e59bceb-1b75-4cbe-8a94-0815ceb3afe3",
     "showTitle": false,
     "tableResultSettingsMap": {},
     "title": ""
    }
   },
   "outputs": [],
   "source": [
    "inputs = {\n",
    "    'protein':[\n",
    "        ( ('A'),\"GTGAMWLTKLVLNPASRAARRDLANPYEMHRTLSKAVSRALEEGRERLLWRLEPARGLEPPVVLVQTLTEPDWSVLDEGYAQVFPPKPFHPALKPGQRLRFRLRANPAKRLAATGKRVALKTPAEKVAWLERRLEEGGFRLLEGERGPWVQILQDTFLEVRRKKDGEEAGKLLQVQAVLFEGRLEVVDPERALATLRRGVGPGKALGLGLLSVAP\"),\n",
    "    ],\n",
    "    'rna': [\n",
    "        ( ('B'), \"UCCCCACGCGUGUGGGGAU\")\n",
    "    ]\n",
    "}\n",
    "params = {\n",
    "    'msa': 'no_msa',\n",
    "    'msa_depth': 20,\n",
    "    'diffusion_samples': 1,\n",
    "    'recycling_steps': 3,\n",
    "    'sampling_steps': 200,\n",
    "}"
   ]
  },
  {
   "cell_type": "markdown",
   "metadata": {
    "application/vnd.databricks.v1+cell": {
     "cellMetadata": {},
     "inputWidgets": {},
     "nuid": "52a19543-8527-41bc-91e8-66d6a99762f3",
     "showTitle": false,
     "tableResultSettingsMap": {},
     "title": ""
    }
   },
   "source": [
    "#### Test the model out"
   ]
  },
  {
   "cell_type": "code",
   "execution_count": 0,
   "metadata": {
    "application/vnd.databricks.v1+cell": {
     "cellMetadata": {
      "byteLimit": 2048000,
      "rowLimit": 10000
     },
     "inputWidgets": {},
     "nuid": "beda2438-8f9c-4c2d-8ef3-9bb6ca3c02ec",
     "showTitle": false,
     "tableResultSettingsMap": {},
     "title": ""
    }
   },
   "outputs": [],
   "source": [
    "# serving enpoint expects this format...maybe just standardize to this? like everywhere?\n",
    "model_input = {\n",
    "    'input': convert_input_to_serving_input(inputs),\n",
    "    'msa': 'no_msa',\n",
    "    'use_msa_server': 'True'\n",
    "}\n",
    "print(model_input)"
   ]
  },
  {
   "cell_type": "code",
   "execution_count": 0,
   "metadata": {
    "application/vnd.databricks.v1+cell": {
     "cellMetadata": {
      "byteLimit": 2048000,
      "rowLimit": 10000
     },
     "inputWidgets": {},
     "nuid": "4e79a7f1-3eec-43be-b311-fc9192fe1ff5",
     "showTitle": false,
     "tableResultSettingsMap": {},
     "title": ""
    }
   },
   "outputs": [],
   "source": [
    "result = model.predict(context, [model_input])"
   ]
  },
  {
   "cell_type": "markdown",
   "metadata": {
    "application/vnd.databricks.v1+cell": {
     "cellMetadata": {},
     "inputWidgets": {},
     "nuid": "f7bce8a6-fe5c-4957-9fa2-ad9f163c25e0",
     "showTitle": false,
     "tableResultSettingsMap": {},
     "title": ""
    }
   },
   "source": [
    "#### See what the output looks like"
   ]
  },
  {
   "cell_type": "code",
   "execution_count": 0,
   "metadata": {
    "application/vnd.databricks.v1+cell": {
     "cellMetadata": {
      "byteLimit": 2048000,
      "rowLimit": 10000
     },
     "inputWidgets": {},
     "nuid": "1509ece2-365e-4b31-bbda-321726601ba9",
     "showTitle": false,
     "tableResultSettingsMap": {},
     "title": ""
    }
   },
   "outputs": [],
   "source": [
    "import py3Dmol\n",
    "\n",
    "view = py3Dmol.view(width=800, height=300)\n",
    "\n",
    "view.addModel(\n",
    "    result[0]['pdb'],\n",
    "    'pdb'\n",
    ")\n",
    "view.setStyle({'chain': 'A'}, {'cartoon': {'color': 'blue'}})\n",
    "view.setStyle({'chain': 'B'}, {'cartoon': {'color': 'red'}})\n",
    "\n",
    "view.zoomTo()\n",
    "html = view._make_html()\n",
    "displayHTML(html)"
   ]
  },
  {
   "cell_type": "markdown",
   "metadata": {
    "application/vnd.databricks.v1+cell": {
     "cellMetadata": {},
     "inputWidgets": {},
     "nuid": "be5aa953-185b-4ce8-adb0-f7aa0196d017",
     "showTitle": false,
     "tableResultSettingsMap": {},
     "title": ""
    }
   },
   "source": [
    "### Let's log our model too"
   ]
  },
  {
   "cell_type": "code",
   "execution_count": 0,
   "metadata": {
    "application/vnd.databricks.v1+cell": {
     "cellMetadata": {
      "byteLimit": 2048000,
      "rowLimit": 10000
     },
     "inputWidgets": {},
     "nuid": "eb7c9651-ba40-483c-94d3-47fd7bf45438",
     "showTitle": false,
     "tableResultSettingsMap": {},
     "title": ""
    }
   },
   "outputs": [],
   "source": [
    "%sh\n",
    "# move a copy of our code base to \"local\" machine and then register it with the model\n",
    "# this will make a copy of our codebase that we can then install on the server for model serving\n",
    "mkdir -p /local_disk0/dbboltz\n",
    "cp -r ../dbboltz/src /local_disk0/dbboltz\n",
    "cp ../dbboltz/pyproject.toml /local_disk0/dbboltz"
   ]
  },
  {
   "cell_type": "code",
   "execution_count": 0,
   "metadata": {
    "application/vnd.databricks.v1+cell": {
     "cellMetadata": {
      "byteLimit": 2048000,
      "rowLimit": 10000
     },
     "inputWidgets": {},
     "nuid": "efe0a124-74eb-4ac1-8ba8-6856aec8d40d",
     "showTitle": false,
     "tableResultSettingsMap": {},
     "title": ""
    }
   },
   "outputs": [],
   "source": [
    "%sh\n",
    "ls /local_disk0/dbboltz\n",
    "echo \" -- \"\n",
    "ls /local_disk0/dbboltz/src/dbboltz"
   ]
  },
  {
   "cell_type": "code",
   "execution_count": 0,
   "metadata": {
    "application/vnd.databricks.v1+cell": {
     "cellMetadata": {
      "byteLimit": 2048000,
      "rowLimit": 10000
     },
     "inputWidgets": {},
     "nuid": "339ef8ab-77e6-40de-93ea-11210dac9e1a",
     "showTitle": false,
     "tableResultSettingsMap": {},
     "title": ""
    }
   },
   "outputs": [],
   "source": [
    "result[0]"
   ]
  },
  {
   "cell_type": "code",
   "execution_count": 0,
   "metadata": {
    "application/vnd.databricks.v1+cell": {
     "cellMetadata": {
      "byteLimit": 2048000,
      "rowLimit": 10000
     },
     "inputWidgets": {},
     "nuid": "d65f2073-ac25-4c6a-a30f-706cf881f4b6",
     "showTitle": false,
     "tableResultSettingsMap": {},
     "title": ""
    }
   },
   "outputs": [],
   "source": [
    "from mlflow.types.schema import ColSpec, Schema\n",
    "mlflow.set_registry_uri(\"databricks-uc\")\n",
    "from mlflow.models.signature import infer_signature\n",
    "\n",
    "signature = infer_signature([model_input], result)\n",
    "print(signature)\n",
    "\n",
    "with mlflow.start_run(run_name='boltz'):\n",
    "    model_info = mlflow.pyfunc.log_model(\n",
    "        artifact_path=\"model\",\n",
    "        python_model=Boltz(),\n",
    "        artifacts={\n",
    "            'CACHE_DIR': '/Volumes/protein_folding/boltz/weights',\n",
    "            'repo_path': '/local_disk0/dbboltz'\n",
    "        },\n",
    "        model_config=model_config,\n",
    "        input_example=[model_input],\n",
    "        signature=signature,\n",
    "        conda_env='../envs/conda_env.yaml',\n",
    "        registered_model_name=\"protein_folding.boltz.boltz\"\n",
    "    )"
   ]
  },
  {
   "cell_type": "code",
   "execution_count": 0,
   "metadata": {
    "application/vnd.databricks.v1+cell": {
     "cellMetadata": {
      "byteLimit": 2048000,
      "rowLimit": 10000
     },
     "inputWidgets": {},
     "nuid": "caea0681-9225-48b9-9806-66ef21a7cad7",
     "showTitle": false,
     "tableResultSettingsMap": {},
     "title": ""
    }
   },
   "outputs": [],
   "source": []
  }
 ],
 "metadata": {
  "application/vnd.databricks.v1+notebook": {
   "computePreferences": null,
   "dashboards": [],
   "environmentMetadata": {
    "base_environment": "",
    "environment_version": "2"
   },
   "inputWidgetPreferences": null,
   "language": "python",
   "notebookMetadata": {
    "mostRecentlyExecutedCommandWithImplicitDF": {
     "commandId": 3448788214703352,
     "dataframes": [
      "_sqldf"
     ]
    },
    "pythonIndentUnit": 4
   },
   "notebookName": "make_pyfunc",
   "widgets": {}
  },
  "language_info": {
   "name": "python"
  }
 },
 "nbformat": 4,
 "nbformat_minor": 0
}
