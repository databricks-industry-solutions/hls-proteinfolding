{
 "cells": [
  {
   "cell_type": "code",
   "execution_count": 0,
   "metadata": {
    "application/vnd.databricks.v1+cell": {
     "cellMetadata": {
      "byteLimit": 2048000,
      "rowLimit": 10000
     },
     "inputWidgets": {},
     "nuid": "f256f9ad-4deb-4ffb-88e3-f9e0a6dd0f13",
     "showTitle": false,
     "tableResultSettingsMap": {},
     "title": ""
    }
   },
   "outputs": [],
   "source": [
    "%pip install ../dbboltz[gpu]\n",
    "%pip install py3Dmol\n",
    "dbutils.library.restartPython()"
   ]
  },
  {
   "cell_type": "code",
   "execution_count": 0,
   "metadata": {
    "application/vnd.databricks.v1+cell": {
     "cellMetadata": {
      "byteLimit": 2048000,
      "rowLimit": 10000
     },
     "inputWidgets": {},
     "nuid": "178705f7-d05b-4b48-90f1-dcb36d3e596e",
     "showTitle": false,
     "tableResultSettingsMap": {},
     "title": ""
    }
   },
   "outputs": [],
   "source": [
    "import mlflow\n",
    "mlflow.autolog(disable=True)\n",
    "from dbboltz.boltz import run_boltz, Boltz\n",
    "import yaml"
   ]
  },
  {
   "cell_type": "code",
   "execution_count": 0,
   "metadata": {
    "application/vnd.databricks.v1+cell": {
     "cellMetadata": {
      "byteLimit": 2048000,
      "rowLimit": 10000
     },
     "inputWidgets": {},
     "nuid": "a9ad48f6-3321-4204-be45-fdfbf66e9ff3",
     "showTitle": false,
     "tableResultSettingsMap": {},
     "title": ""
    }
   },
   "outputs": [],
   "source": [
    "def get_model_config():\n",
    "    model_config = {}\n",
    "    model_config['jackhmmer_binary_path'] = \"/miniconda3/envs/jackhmmer_env/bin/jackhmmer\"\n",
    "    model_config['compute_type'] = 'gpu'\n",
    "    return model_config\n",
    "\n",
    "model_config = get_model_config()"
   ]
  },
  {
   "cell_type": "code",
   "execution_count": 0,
   "metadata": {
    "application/vnd.databricks.v1+cell": {
     "cellMetadata": {
      "byteLimit": 2048000,
      "rowLimit": 10000
     },
     "inputWidgets": {},
     "nuid": "b91069fe-f548-4980-9c77-6d8b74ac3c19",
     "showTitle": false,
     "tableResultSettingsMap": {},
     "title": ""
    }
   },
   "outputs": [],
   "source": [
    "model = Boltz()\n",
    "context = mlflow.pyfunc.PythonModelContext(\n",
    "    artifacts = {\n",
    "        'CACHE_DIR': '/Volumes/peter_hawkins/testing/boltz'\n",
    "    },\n",
    "    model_config = model_config\n",
    ")\n",
    "model.load_context(context)"
   ]
  },
  {
   "cell_type": "code",
   "execution_count": 0,
   "metadata": {
    "application/vnd.databricks.v1+cell": {
     "cellMetadata": {
      "byteLimit": 2048000,
      "rowLimit": 10000
     },
     "inputWidgets": {},
     "nuid": "2ac99af1-b8ab-474e-a96d-c71c6fcdcb7d",
     "showTitle": false,
     "tableResultSettingsMap": {},
     "title": ""
    }
   },
   "outputs": [],
   "source": [
    "def convert_input_to_serving_input(inputs):\n",
    "    out_dict = dict()\n",
    "    for k, v in inputs.items():\n",
    "        for in_seqs in v:\n",
    "            chain_ids = ','.join(in_seqs[0])\n",
    "            sequence = in_seqs[1]\n",
    "            out_dict[k+'_'+chain_ids] = sequence\n",
    "    out_str = \"\"\n",
    "    for k,v in out_dict.items():\n",
    "        out_str += k+':'+v+';'\n",
    "    out_str = out_str.rstrip(';')\n",
    "    return out_str"
   ]
  },
  {
   "cell_type": "code",
   "execution_count": 0,
   "metadata": {
    "application/vnd.databricks.v1+cell": {
     "cellMetadata": {
      "byteLimit": 2048000,
      "rowLimit": 10000
     },
     "inputWidgets": {},
     "nuid": "0e59bceb-1b75-4cbe-8a94-0815ceb3afe3",
     "showTitle": false,
     "tableResultSettingsMap": {},
     "title": ""
    }
   },
   "outputs": [],
   "source": [
    "inputs = {\n",
    "    'protein':[\n",
    "        ( ('A'),\"GTGAMWLTKLVLNPASRAARRDLANPYEMHRTLSKAVSRALEEGRERLLWRLEPARGLEPPVVLVQTLTEPDWSVLDEGYAQVFPPKPFHPALKPGQRLRFRLRANPAKRLAATGKRVALKTPAEKVAWLERRLEEGGFRLLEGERGPWVQILQDTFLEVRRKKDGEEAGKLLQVQAVLFEGRLEVVDPERALATLRRGVGPGKALGLGLLSVAP\"),\n",
    "    ],\n",
    "    'rna': [\n",
    "        ( ('B'), \"UCCCCACGCGUGUGGGGAU\")\n",
    "    ]\n",
    "}\n",
    "params = {\n",
    "    'msa': 'no_msa',\n",
    "    'msa_depth': 20,\n",
    "    'diffusion_samples': 1,\n",
    "    'recycling_steps': 3,\n",
    "    'sampling_steps': 200,\n",
    "}"
   ]
  },
  {
   "cell_type": "code",
   "execution_count": 0,
   "metadata": {
    "application/vnd.databricks.v1+cell": {
     "cellMetadata": {
      "byteLimit": 2048000,
      "rowLimit": 10000
     },
     "inputWidgets": {},
     "nuid": "beda2438-8f9c-4c2d-8ef3-9bb6ca3c02ec",
     "showTitle": false,
     "tableResultSettingsMap": {},
     "title": ""
    }
   },
   "outputs": [],
   "source": [
    "# serving enpoint expects this format...maybe just standardize to this? like everywhere?\n",
    "model_input = {\n",
    "    'input': convert_input_to_serving_input(inputs),\n",
    "    'msa': 'no_msa',\n",
    "    'use_msa_server': 'True'\n",
    "}\n",
    "print(model_input)"
   ]
  },
  {
   "cell_type": "code",
   "execution_count": 0,
   "metadata": {
    "application/vnd.databricks.v1+cell": {
     "cellMetadata": {
      "byteLimit": 2048000,
      "rowLimit": 10000
     },
     "inputWidgets": {},
     "nuid": "4e79a7f1-3eec-43be-b311-fc9192fe1ff5",
     "showTitle": false,
     "tableResultSettingsMap": {},
     "title": ""
    }
   },
   "outputs": [],
   "source": [
    "result = model.predict(context, [model_input]) #, params=params)"
   ]
  },
  {
   "cell_type": "code",
   "execution_count": 0,
   "metadata": {
    "application/vnd.databricks.v1+cell": {
     "cellMetadata": {
      "byteLimit": 2048000,
      "rowLimit": 10000
     },
     "inputWidgets": {},
     "nuid": "fe16a62f-ab9b-4d49-9590-58998ba0a299",
     "showTitle": false,
     "tableResultSettingsMap": {},
     "title": ""
    }
   },
   "outputs": [],
   "source": [
    "# model_input_w_params = model_input.copy()\n",
    "# model_input_w_params.update({k:str(v) for k,v in params.items()})\n",
    "# result = model.predict(context, [model_input_w_params])"
   ]
  },
  {
   "cell_type": "code",
   "execution_count": 0,
   "metadata": {
    "application/vnd.databricks.v1+cell": {
     "cellMetadata": {
      "byteLimit": 2048000,
      "rowLimit": 10000
     },
     "inputWidgets": {},
     "nuid": "4b2b5577-6f95-4702-ad9d-03c06c1cb0f7",
     "showTitle": false,
     "tableResultSettingsMap": {},
     "title": ""
    }
   },
   "outputs": [],
   "source": [
    "# model_input_w_params = model_input.copy()\n",
    "# model_input_w_params.update({k:str(v) for k,v in params.items()})\n",
    "# model_input_w_params.update({\n",
    "#     'msa':'mmseqs',\n",
    "#     'use_msa_server':True\n",
    "# })\n",
    "# result = model.predict(context, [model_input_w_params])"
   ]
  },
  {
   "cell_type": "code",
   "execution_count": 0,
   "metadata": {
    "application/vnd.databricks.v1+cell": {
     "cellMetadata": {
      "byteLimit": 2048000,
      "rowLimit": 10000
     },
     "inputWidgets": {},
     "nuid": "1509ece2-365e-4b31-bbda-321726601ba9",
     "showTitle": false,
     "tableResultSettingsMap": {},
     "title": ""
    }
   },
   "outputs": [],
   "source": [
    "import py3Dmol\n",
    "\n",
    "view = py3Dmol.view(width=800, height=300)\n",
    "\n",
    "view.addModel(\n",
    "    result[0]['pdb'],\n",
    "    'pdb'\n",
    ")\n",
    "view.setStyle({'chain': 'A'}, {'cartoon': {'color': 'blue'}})\n",
    "view.setStyle({'chain': 'B'}, {'cartoon': {'color': 'red'}})\n",
    "\n",
    "view.zoomTo()\n",
    "html = view._make_html()\n",
    "displayHTML(html)"
   ]
  },
  {
   "cell_type": "markdown",
   "metadata": {
    "application/vnd.databricks.v1+cell": {
     "cellMetadata": {
      "byteLimit": 2048000,
      "rowLimit": 10000
     },
     "inputWidgets": {},
     "nuid": "be5aa953-185b-4ce8-adb0-f7aa0196d017",
     "showTitle": false,
     "tableResultSettingsMap": {},
     "title": ""
    }
   },
   "source": [
    "### Let's log our model too"
   ]
  },
  {
   "cell_type": "code",
   "execution_count": 0,
   "metadata": {
    "application/vnd.databricks.v1+cell": {
     "cellMetadata": {
      "byteLimit": 2048000,
      "rowLimit": 10000
     },
     "inputWidgets": {},
     "nuid": "eb7c9651-ba40-483c-94d3-47fd7bf45438",
     "showTitle": false,
     "tableResultSettingsMap": {},
     "title": ""
    }
   },
   "outputs": [],
   "source": [
    "%sh\n",
    "# move a copy of our code base to \"local\" machine and then register it with the model\n",
    "# this will make a copy of our codebase that we can then install on the server for model serving\n",
    "mkdir -p /local_disk0/dbboltz\n",
    "cp -r ../dbboltz/src /local_disk0/dbboltz\n",
    "cp ../dbboltz/pyproject.toml /local_disk0/dbboltz"
   ]
  },
  {
   "cell_type": "code",
   "execution_count": 0,
   "metadata": {
    "application/vnd.databricks.v1+cell": {
     "cellMetadata": {
      "byteLimit": 2048000,
      "rowLimit": 10000
     },
     "inputWidgets": {},
     "nuid": "efe0a124-74eb-4ac1-8ba8-6856aec8d40d",
     "showTitle": false,
     "tableResultSettingsMap": {},
     "title": ""
    }
   },
   "outputs": [],
   "source": [
    "%sh\n",
    "ls /local_disk0/dbboltz\n",
    "echo \" -- \"\n",
    "ls /local_disk0/dbboltz/src/dbboltz"
   ]
  },
  {
   "cell_type": "code",
   "execution_count": 0,
   "metadata": {
    "application/vnd.databricks.v1+cell": {
     "cellMetadata": {
      "byteLimit": 2048000,
      "rowLimit": 10000
     },
     "inputWidgets": {},
     "nuid": "339ef8ab-77e6-40de-93ea-11210dac9e1a",
     "showTitle": false,
     "tableResultSettingsMap": {},
     "title": ""
    }
   },
   "outputs": [],
   "source": [
    "result[0]"
   ]
  },
  {
   "cell_type": "code",
   "execution_count": 0,
   "metadata": {
    "application/vnd.databricks.v1+cell": {
     "cellMetadata": {
      "byteLimit": 2048000,
      "rowLimit": 10000
     },
     "inputWidgets": {},
     "nuid": "d65f2073-ac25-4c6a-a30f-706cf881f4b6",
     "showTitle": false,
     "tableResultSettingsMap": {},
     "title": ""
    }
   },
   "outputs": [],
   "source": [
    "from mlflow.types.schema import ColSpec, Schema\n",
    "mlflow.set_registry_uri(\"databricks-uc\")\n",
    "from mlflow.models.signature import infer_signature\n",
    "\n",
    "signature = infer_signature([model_input], result)\n",
    "print(signature)\n",
    "\n",
    "with mlflow.start_run(run_name='boltz'):\n",
    "    model_info = mlflow.pyfunc.log_model(\n",
    "        artifact_path=\"model\",\n",
    "        python_model=Boltz(),\n",
    "        artifacts={\n",
    "            'CACHE_DIR': '/Volumes/peter_hawkins/testing/boltz',\n",
    "            'repo_path': '/local_disk0/dbboltz'\n",
    "        },\n",
    "        model_config=model_config,\n",
    "        input_example=[model_input],\n",
    "        signature=signature,\n",
    "        conda_env='../envs/conda_env.yaml',\n",
    "        registered_model_name=\"protein_folding.boltz.boltz\"\n",
    "    )"
   ]
  },
  {
   "cell_type": "markdown",
   "metadata": {
    "application/vnd.databricks.v1+cell": {
     "cellMetadata": {
      "byteLimit": 2048000,
      "rowLimit": 10000
     },
     "inputWidgets": {},
     "nuid": "84ad5bab-d4b5-4d7a-9b90-cc86b9af8686",
     "showTitle": false,
     "tableResultSettingsMap": {},
     "title": ""
    }
   },
   "source": [
    "# NOTE:\n",
    " - I think the issue is going to be that though list of Dict[str,str] is allowed, that it expects to get all the field of the dict and for those to be set ahead of time, but what if I have protein_C,D in future?\n",
    " - I could have List[str]: 'protein_A,B:KJBSKJFBKJSB;rna_C:CAGCATAT;....'\n",
    " - internally start by splitting on ; to get list, then split those on : to get a dict, then continue as have it now"
   ]
  },
  {
   "cell_type": "markdown",
   "metadata": {
    "application/vnd.databricks.v1+cell": {
     "cellMetadata": {
      "byteLimit": 2048000,
      "rowLimit": 10000
     },
     "inputWidgets": {},
     "nuid": "bb3ed199-21d0-4c59-becd-d1af897c300a",
     "showTitle": false,
     "tableResultSettingsMap": {},
     "title": ""
    }
   },
   "source": [
    "\n",
    "### Format would be:\n",
    "\n",
    "{type}_{comma-sep chains}:{sequence};{repeat}"
   ]
  },
  {
   "cell_type": "markdown",
   "metadata": {
    "application/vnd.databricks.v1+cell": {
     "cellMetadata": {
      "byteLimit": 2048000,
      "rowLimit": 10000
     },
     "inputWidgets": {},
     "nuid": "35812d2e-beca-4f10-9523-c9a61dca427e",
     "showTitle": false,
     "tableResultSettingsMap": {},
     "title": ""
    }
   },
   "source": [
    "## Other option would be pass inputs through params, but I think this also doesn't play nice.."
   ]
  },
  {
   "cell_type": "markdown",
   "metadata": {
    "application/vnd.databricks.v1+cell": {
     "cellMetadata": {
      "byteLimit": 2048000,
      "rowLimit": 10000
     },
     "inputWidgets": {},
     "nuid": "563fc186-3996-4608-a7ba-e515ef4514ad",
     "showTitle": false,
     "tableResultSettingsMap": {},
     "title": ""
    }
   },
   "source": [
    "First serve attempt failed because of torch not being available to the flashattn module\n",
    "I added that - let's see.\n",
    "Note that flashattn takes ages to build...\n",
    " - I could add ninja in a conda env, might be faster, worry about build timeout for the env...?\n",
    "\n",
    " - if this one doesn't work with torch in pip - maybe move to conda to get something a bit more steady...\n",
    "\n",
    " ## I need to ensure torch is installed before flash-attn\n",
    "  - need to have some things installed by conda and others byt pip"
   ]
  },
  {
   "cell_type": "markdown",
   "metadata": {
    "application/vnd.databricks.v1+cell": {
     "cellMetadata": {
      "byteLimit": 2048000,
      "rowLimit": 10000
     },
     "inputWidgets": {},
     "nuid": "75b04a8c-e831-4b25-93c0-39634dc10d85",
     "showTitle": false,
     "tableResultSettingsMap": {},
     "title": ""
    }
   },
   "source": [
    "Now I put the params in the model_input...\n",
    " - but now it expects them as part of the schema as a minimal set of inputs?"
   ]
  },
  {
   "cell_type": "code",
   "execution_count": 0,
   "metadata": {
    "application/vnd.databricks.v1+cell": {
     "cellMetadata": {
      "byteLimit": 2048000,
      "rowLimit": 10000
     },
     "inputWidgets": {},
     "nuid": "917c6bc1-dbba-47b4-9dc6-e3ccd1123f0a",
     "showTitle": false,
     "tableResultSettingsMap": {},
     "title": ""
    }
   },
   "outputs": [],
   "source": [
    "signature"
   ]
  },
  {
   "cell_type": "code",
   "execution_count": 0,
   "metadata": {
    "application/vnd.databricks.v1+cell": {
     "cellMetadata": {
      "byteLimit": 2048000,
      "rowLimit": 10000
     },
     "inputWidgets": {},
     "nuid": "b4abf831-fcf8-4019-b220-16bf09dd1512",
     "showTitle": false,
     "tableResultSettingsMap": {},
     "title": ""
    }
   },
   "outputs": [],
   "source": [
    "# If I only pass input:\"\" can I not pass anything else later?\n",
    "\n",
    "# And apparently self.model_config is None? on model serving?"
   ]
  },
  {
   "cell_type": "markdown",
   "metadata": {
    "application/vnd.databricks.v1+cell": {
     "cellMetadata": {
      "byteLimit": 2048000,
      "rowLimit": 10000
     },
     "inputWidgets": {},
     "nuid": "fa5c560b-3a13-40af-8719-1b8ef67140c8",
     "showTitle": false,
     "tableResultSettingsMap": {},
     "title": ""
    }
   },
   "source": [
    "## Set model input example to be one with all options I want exposed at runtime set\n",
    "  - all others should go to default\n",
    "  - I think I should expose only:\n",
    "    - msa\n",
    "    - use_msa_server\n",
    "    - sampling_steps \n",
    "\n",
    "  - This means users MUST supply those too..."
   ]
  },
  {
   "cell_type": "markdown",
   "metadata": {
    "application/vnd.databricks.v1+cell": {
     "cellMetadata": {
      "byteLimit": 2048000,
      "rowLimit": 10000
     },
     "inputWidgets": {},
     "nuid": "04ef30bf-8e9b-45f5-b5f3-690ba91463fa",
     "showTitle": false,
     "tableResultSettingsMap": {},
     "title": ""
    }
   },
   "source": [
    "# I need to pass model_config to the logging!!!\n",
    " - I also need to **check**\n",
    "   - I cannot change those configs at run time"
   ]
  },
  {
   "cell_type": "code",
   "execution_count": 0,
   "metadata": {
    "application/vnd.databricks.v1+cell": {
     "cellMetadata": {
      "byteLimit": 2048000,
      "rowLimit": 10000
     },
     "inputWidgets": {},
     "nuid": "6c776b0a-3c8c-4601-88ce-90e6d821e12d",
     "showTitle": false,
     "tableResultSettingsMap": {},
     "title": ""
    }
   },
   "outputs": [],
   "source": [
    "model_input_w_params"
   ]
  },
  {
   "cell_type": "code",
   "execution_count": 0,
   "metadata": {
    "application/vnd.databricks.v1+cell": {
     "cellMetadata": {
      "byteLimit": 2048000,
      "rowLimit": 10000
     },
     "inputWidgets": {},
     "nuid": "caea0681-9225-48b9-9806-66ef21a7cad7",
     "showTitle": false,
     "tableResultSettingsMap": {},
     "title": ""
    }
   },
   "outputs": [],
   "source": []
  }
 ],
 "metadata": {
  "application/vnd.databricks.v1+notebook": {
   "computePreferences": null,
   "dashboards": [],
   "environmentMetadata": {
    "base_environment": "",
    "environment_version": "2"
   },
   "inputWidgetPreferences": null,
   "language": "python",
   "notebookMetadata": {
    "mostRecentlyExecutedCommandWithImplicitDF": {
     "commandId": 3363001723489421,
     "dataframes": [
      "_sqldf"
     ]
    },
    "pythonIndentUnit": 4
   },
   "notebookName": "make_pyfunc",
   "widgets": {}
  },
  "language_info": {
   "name": "python"
  }
 },
 "nbformat": 4,
 "nbformat_minor": 0
}
