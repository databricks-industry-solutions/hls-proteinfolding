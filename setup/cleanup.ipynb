{
 "cells": [
  {
   "cell_type": "markdown",
   "metadata": {
    "application/vnd.databricks.v1+cell": {
     "cellMetadata": {},
     "inputWidgets": {},
     "nuid": "4b97127c-fbb0-4b01-b631-76202c914498",
     "showTitle": false,
     "tableResultSettingsMap": {},
     "title": ""
    }
   },
   "source": [
    "This will:\n",
    " - delete AF2 workflow (get id by name) (install workflow will be deleted following successful run)\n",
    " - delete model serving endpoints by name\n",
    " - delete the catalog"
   ]
  },
  {
   "cell_type": "code",
   "execution_count": 0,
   "metadata": {
    "application/vnd.databricks.v1+cell": {
     "cellMetadata": {
      "byteLimit": 2048000,
      "rowLimit": 10000
     },
     "inputWidgets": {},
     "nuid": "8d84d968-9c5f-4591-b1e7-f949bd155ba4",
     "showTitle": false,
     "tableResultSettingsMap": {},
     "title": ""
    }
   },
   "outputs": [],
   "source": [
    "# delete the catalog \"protein folding\" and schemas in it etc too\n",
    "# CAREFUL - all downloaded datasets and logs are in here...\n",
    "# spark.sql(\"DROP CATALOG `protein_folding` CASCADE\")\n",
    "\n",
    "# more minimal deletes by schema, e.g :\n",
    "spark.sql(\"DROP SCHEMA IF EXISTS `protein_folding`.`esmfold` CASCADE\")\n",
    "spark.sql(\"DROP SCHEMA IF EXISTS `protein_folding`.`rfdiffusion` CASCADE\")\n",
    "spark.sql(\"DROP SCHEMA IF EXISTS `protein_folding`.`proteinmpnn` CASCADE\")\n",
    "spark.sql(\"DROP SCHEMA IF EXISTS `protein_folding`.`boltz` CASCADE\")"
   ]
  },
  {
   "cell_type": "code",
   "execution_count": 0,
   "metadata": {
    "application/vnd.databricks.v1+cell": {
     "cellMetadata": {
      "byteLimit": 2048000,
      "rowLimit": 10000
     },
     "inputWidgets": {},
     "nuid": "543db992-ec62-4406-894a-e2164bc343a8",
     "showTitle": false,
     "tableResultSettingsMap": {},
     "title": ""
    }
   },
   "outputs": [],
   "source": [
    "from databricks.sdk import WorkspaceClient\n",
    "w = WorkspaceClient()\n",
    "\n",
    "models = [\n",
    "  'esmfold',\n",
    "  'proteinmpnn',\n",
    "  'rfdiffusion_unconditional',\n",
    "  'rfdiffusion_inpainting',\n",
    "  'boltz',\n",
    "]\n",
    "# now delete the endpoint using sdk for each model name (= endpoint_name)\n",
    "for m in models:\n",
    "    # Assuming `client` is an instance of the SDK client\n",
    "    try:\n",
    "      w.serving_endpoints.delete(name=m)\n",
    "    except Exception as e:\n",
    "      print(f\"Error deleting endpoint {m}: {e}\")\n",
    "      pass\n"
   ]
  },
  {
   "cell_type": "code",
   "execution_count": 0,
   "metadata": {
    "application/vnd.databricks.v1+cell": {
     "cellMetadata": {},
     "inputWidgets": {},
     "nuid": "8ef6884b-5d08-4baf-a7a8-5aad59c82011",
     "showTitle": false,
     "tableResultSettingsMap": {},
     "title": ""
    }
   },
   "outputs": [],
   "source": []
  }
 ],
 "metadata": {
  "application/vnd.databricks.v1+notebook": {
   "computePreferences": null,
   "dashboards": [],
   "environmentMetadata": {
    "base_environment": "",
    "environment_version": "2"
   },
   "inputWidgetPreferences": null,
   "language": "python",
   "notebookMetadata": {
    "pythonIndentUnit": 2
   },
   "notebookName": "cleanup",
   "widgets": {}
  },
  "language_info": {
   "name": "python"
  }
 },
 "nbformat": 4,
 "nbformat_minor": 0
}
