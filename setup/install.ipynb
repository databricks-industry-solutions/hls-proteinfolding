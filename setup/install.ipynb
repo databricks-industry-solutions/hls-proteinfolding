{
 "cells": [
  {
   "cell_type": "code",
   "execution_count": 0,
   "metadata": {
    "application/vnd.databricks.v1+cell": {
     "cellMetadata": {
      "byteLimit": 2048000,
      "rowLimit": 10000
     },
     "inputWidgets": {},
     "nuid": "f612de86-34d0-4452-9d8b-fae2c558265a",
     "showTitle": false,
     "tableResultSettingsMap": {},
     "title": ""
    }
   },
   "outputs": [],
   "source": [
    "%pip install pyyaml\n",
    "%restart_python"
   ]
  },
  {
   "cell_type": "code",
   "execution_count": 0,
   "metadata": {
    "application/vnd.databricks.v1+cell": {
     "cellMetadata": {
      "byteLimit": 2048000,
      "rowLimit": 10000
     },
     "inputWidgets": {},
     "nuid": "bfc8d31e-a108-47ba-bdb3-36048cfb2553",
     "showTitle": false,
     "tableResultSettingsMap": {},
     "title": ""
    }
   },
   "outputs": [],
   "source": [
    "email = \"me@org.com\"\n"
   ]
  },
  {
   "cell_type": "code",
   "execution_count": 0,
   "metadata": {
    "application/vnd.databricks.v1+cell": {
     "cellMetadata": {
      "byteLimit": 2048000,
      "rowLimit": 10000
     },
     "inputWidgets": {},
     "nuid": "0b09f64c-55ba-4753-ab20-ecac5eb01d9b",
     "showTitle": false,
     "tableResultSettingsMap": {},
     "title": ""
    }
   },
   "outputs": [],
   "source": [
    "notebook_path = dbutils.notebook.entry_point.getDbutils().notebook().getContext().notebookPath().get()\n",
    "directory_path = '/'.join(notebook_path.split('/')[:-1])\n",
    "default_yaml_path = \"/Workspace\"+directory_path+\"/install_job_spec.yaml\"\n",
    "base_path = \"/Workspace\"+directory_path+\"/..\""
   ]
  },
  {
   "cell_type": "code",
   "execution_count": 0,
   "metadata": {
    "application/vnd.databricks.v1+cell": {
     "cellMetadata": {
      "byteLimit": 2048000,
      "rowLimit": 10000
     },
     "inputWidgets": {},
     "nuid": "b8a7e637-a87f-4104-ae3d-999863c25056",
     "showTitle": false,
     "tableResultSettingsMap": {},
     "title": ""
    }
   },
   "outputs": [],
   "source": [
    "import re\n",
    "with open(default_yaml_path, 'r') as file:\n",
    "    yaml_content = file.read()\n",
    "\n",
    "updated_yaml_content = re.sub(r'<email>', email, yaml_content)\n",
    "updated_yaml_content = re.sub(r'<install_base_path>', notebook_path, updated_yaml_content)\n"
   ]
  },
  {
   "cell_type": "markdown",
   "metadata": {
    "application/vnd.databricks.v1+cell": {
     "cellMetadata": {},
     "inputWidgets": {},
     "nuid": "761ba7ca-cdeb-4317-9fe0-0c15654b48f3",
     "showTitle": false,
     "tableResultSettingsMap": {},
     "title": ""
    }
   },
   "source": [
    "### note to self:\n",
    " - figure out best way to use config...\n",
    "  - need to check for each task - is it in the config?\n",
    "  - also Azure compute vs aws"
   ]
  },
  {
   "cell_type": "code",
   "execution_count": 0,
   "metadata": {
    "application/vnd.databricks.v1+cell": {
     "cellMetadata": {
      "byteLimit": 2048000,
      "rowLimit": 10000
     },
     "inputWidgets": {},
     "nuid": "15300cd4-30ef-4f78-9e35-65a339b0a39a",
     "showTitle": false,
     "tableResultSettingsMap": {},
     "title": ""
    }
   },
   "outputs": [],
   "source": [
    "from databricks.sdk import WorkspaceClient\n",
    "from databricks.sdk.service.jobs import JobSettings\n",
    "from typing import Optional\n",
    "import yaml\n",
    "def get_jobsettings(yaml_path: Optional[str] = None, yaml_str: Optional[str] = None):\n",
    "    if yaml_path is not None:\n",
    "        with open(yaml_path) as f:\n",
    "            config = yaml.safe_load(f)\n",
    "    elif yaml_str is not None:\n",
    "        config = yaml.safe_load(yaml_str)\n",
    "    else:\n",
    "        raise ValueError(\"Either yaml_path or yaml_str must be provided\")\n",
    "\n",
    "    outer_name = [k for k in config['resources']['jobs'].keys()][0]\n",
    "\n",
    "    # Full job settings deserialization\n",
    "    job_settings = JobSettings.from_dict(config['resources']['jobs'][outer_name])\n",
    "\n",
    "    # select tasks using the config\n",
    "    new_tasks = []\n",
    "    for task in job_settings.tasks:\n",
    "        bool_ = config['tasks'][task.task_key]\n",
    "        if bool_:\n",
    "            new_tasks.append(task)\n",
    "    job_settings.tasks = new_tasks\n",
    "\n",
    "    return job_settings"
   ]
  },
  {
   "cell_type": "code",
   "execution_count": 0,
   "metadata": {
    "application/vnd.databricks.v1+cell": {
     "cellMetadata": {
      "byteLimit": 2048000,
      "rowLimit": 10000
     },
     "inputWidgets": {},
     "nuid": "c406041c-150d-4e43-bce2-9efc7c44c007",
     "showTitle": false,
     "tableResultSettingsMap": {},
     "title": ""
    }
   },
   "outputs": [],
   "source": [
    "js = get_jobsettings(yaml_str=updated_yaml_content)"
   ]
  },
  {
   "cell_type": "code",
   "execution_count": 0,
   "metadata": {
    "application/vnd.databricks.v1+cell": {
     "cellMetadata": {
      "byteLimit": 2048000,
      "rowLimit": 10000
     },
     "inputWidgets": {},
     "nuid": "35c9e712-a802-42a3-94d9-d4dcba568838",
     "showTitle": false,
     "tableResultSettingsMap": {},
     "title": ""
    }
   },
   "outputs": [],
   "source": [
    "js.tasks[0].task_key"
   ]
  },
  {
   "cell_type": "code",
   "execution_count": 0,
   "metadata": {
    "application/vnd.databricks.v1+cell": {
     "cellMetadata": {},
     "inputWidgets": {},
     "nuid": "0bb1d325-1b6b-45dc-8318-a921407ad780",
     "showTitle": false,
     "tableResultSettingsMap": {},
     "title": ""
    }
   },
   "outputs": [],
   "source": []
  },
  {
   "cell_type": "code",
   "execution_count": 0,
   "metadata": {
    "application/vnd.databricks.v1+cell": {
     "cellMetadata": {},
     "inputWidgets": {},
     "nuid": "13e26268-f9fe-4cd5-ac70-13b6f8188441",
     "showTitle": false,
     "tableResultSettingsMap": {},
     "title": ""
    }
   },
   "outputs": [],
   "source": []
  },
  {
   "cell_type": "code",
   "execution_count": 0,
   "metadata": {
    "application/vnd.databricks.v1+cell": {
     "cellMetadata": {},
     "inputWidgets": {},
     "nuid": "c6888821-193b-4a8f-94a1-658f88ebe6e6",
     "showTitle": false,
     "tableResultSettingsMap": {},
     "title": ""
    }
   },
   "outputs": [],
   "source": [
    "from databricks.sdk import WorkspaceClient\n",
    "from databricks.sdk.service.jobs import JobSettings\n",
    "from typing import Optional\n",
    "import yaml\n",
    "\n",
    "def create_job_from_yaml(yaml_path: Optional[str] = None, yaml_str: Optional[str] = None):\n",
    "    if yaml_path is not None:\n",
    "        with open(yaml_path) as f:\n",
    "            config = yaml.safe_load(f)\n",
    "    elif yaml_str is not None:\n",
    "        config = yaml.safe_load(yaml_str)\n",
    "    else:\n",
    "        raise ValueError(\"Either yaml_path or yaml_str must be provided\")\n",
    "    \n",
    "    outer_name = [k for k in config['resources']['jobs'].keys()][0]\n",
    "  \n",
    "    # Full job settings deserialization\n",
    "    job_settings = JobSettings.from_dict(config['resources']['jobs'][outer_name])\n",
    "    \n",
    "    # instantiate the client\n",
    "    w = WorkspaceClient()\n",
    "    \n",
    "    # create a job just with name\n",
    "    creation_info = w.jobs.create(name='new created job')\n",
    "    # now use job settings object to populate\n",
    "    w.jobs.reset(\n",
    "        job_id=creation_info.job_id,\n",
    "        new_settings=job_settings,\n",
    "    )\n",
    "    return creation_info.job_id\n",
    "\n",
    "try:\n",
    "    job_id = create_job_from_yaml(yaml_str = updated_yaml_content)\n",
    "    print(f\"Created job {job_id}\")\n",
    "except Exception as e:\n",
    "    print(f\"Job creation failed: {e}\")"
   ]
  }
 ],
 "metadata": {
  "application/vnd.databricks.v1+notebook": {
   "computePreferences": null,
   "dashboards": [],
   "environmentMetadata": {
    "base_environment": "",
    "environment_version": "2"
   },
   "inputWidgetPreferences": null,
   "language": "python",
   "notebookMetadata": {
    "pythonIndentUnit": 4
   },
   "notebookName": "install",
   "widgets": {}
  },
  "language_info": {
   "name": "python"
  }
 },
 "nbformat": 4,
 "nbformat_minor": 0
}
